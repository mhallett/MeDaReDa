{
 "cells": [
  {
   "cell_type": "markdown",
   "metadata": {},
   "source": [
    "# 01 Select Tables"
   ]
  },
  {
   "cell_type": "code",
   "execution_count": null,
   "metadata": {
    "collapsed": true
   },
   "outputs": [],
   "source": []
  },
  {
   "cell_type": "code",
   "execution_count": null,
   "metadata": {
    "collapsed": true
   },
   "outputs": [],
   "source": []
  },
  {
   "cell_type": "code",
   "execution_count": 2,
   "metadata": {
    "collapsed": true
   },
   "outputs": [],
   "source": [
    "import medareda_lib\n",
    "\n",
    "def get_conn():\n",
    "    return medareda_lib.get_conn()"
   ]
  },
  {
   "cell_type": "code",
   "execution_count": 51,
   "metadata": {
    "collapsed": false
   },
   "outputs": [
    {
     "name": "stdout",
     "output_type": "stream",
     "text": [
      "[(12355L, 'done'), (2L, 'processing'), (10L, 'wait')]\n"
     ]
    }
   ],
   "source": [
    "def count_iPrice():\n",
    "    conn = get_conn()\n",
    "    cur = conn.cursor()\n",
    "    cur.execute(\"SELECT count(*),status FROM iPrice group by status;\")\n",
    "    print cur.fetchall()\n",
    "    conn.commit()\n",
    "    cur.close()\n",
    "    conn.close()\n",
    "    \n",
    "count_iPrice()"
   ]
  },
  {
   "cell_type": "code",
   "execution_count": 44,
   "metadata": {
    "collapsed": true
   },
   "outputs": [],
   "source": [
    "def count_pPrice():\n",
    "    conn = get_conn()\n",
    "    cur = conn.cursor()\n",
    "    cur.execute(\"SELECT count(*) FROM pPrice;\")\n",
    "    print cur.fetchall()\n",
    "    conn.commit()\n",
    "    cur.close()\n",
    "    conn.close()"
   ]
  },
  {
   "cell_type": "code",
   "execution_count": 31,
   "metadata": {
    "collapsed": true
   },
   "outputs": [],
   "source": [
    "def count_dPrice():\n",
    "    conn = get_conn()\n",
    "    cur = conn.cursor()\n",
    "    cur.execute(\"SELECT count(*) FROM dPrice;\")\n",
    "    print 'dPrice', cur.fetchall()\n",
    "    conn.commit()\n",
    "    cur.close()\n",
    "    conn.close()"
   ]
  },
  {
   "cell_type": "code",
   "execution_count": 5,
   "metadata": {
    "collapsed": true
   },
   "outputs": [],
   "source": [
    "def count_vViewpoint():\n",
    "    conn = get_conn()\n",
    "    cur = conn.cursor()\n",
    "    cur.execute(\"SELECT * FROM vViewpoint;\")\n",
    "    print cur.fetchall()\n",
    "    conn.commit()\n",
    "    cur.close()\n",
    "    conn.close()"
   ]
  },
  {
   "cell_type": "code",
   "execution_count": 6,
   "metadata": {
    "collapsed": true
   },
   "outputs": [],
   "source": [
    "def count_vPrice():\n",
    "    conn = get_conn()\n",
    "    cur = conn.cursor()\n",
    "    cur.execute(\"SELECT count(*) FROM vPrice;\")\n",
    "    print cur.fetchall()\n",
    "    conn.commit()\n",
    "    cur.close()\n",
    "    conn.close()"
   ]
  },
  {
   "cell_type": "code",
   "execution_count": 9,
   "metadata": {
    "collapsed": false
   },
   "outputs": [
    {
     "name": "stdout",
     "output_type": "stream",
     "text": [
      "i\n",
      "[(12040L,)]\n",
      "p\n",
      "[(12042L,)]\n",
      "d\n",
      "dPrice [(12042L,)]\n",
      "vp\n",
      "[(1, 'dPrice', 12042)]\n",
      "v\n",
      "[(12050L,)]\n"
     ]
    }
   ],
   "source": [
    "\n",
    "print 'i'\n",
    "count_iPrice()\n",
    "print 'p'\n",
    "count_pPrice()\n",
    "print 'd'\n",
    "count_dPrice()\n",
    "print 'vp'\n",
    "count_vViewpoint()\n",
    "print 'v'\n",
    "count_vPrice()"
   ]
  },
  {
   "cell_type": "code",
   "execution_count": 19,
   "metadata": {
    "collapsed": false
   },
   "outputs": [
    {
     "name": "stdout",
     "output_type": "stream",
     "text": [
      "[]\n"
     ]
    }
   ],
   "source": [
    "def select_price():\n",
    "    conn = get_conn()\n",
    "    cur = conn.cursor()\n",
    "    cur.execute(\"SELECT date,price FROM vPrice;\")\n",
    "    print cur.fetchall()\n",
    "    conn.commit()\n",
    "    cur.close()\n",
    "    conn.close()\n",
    "    \n",
    "select_price()"
   ]
  },
  {
   "cell_type": "code",
   "execution_count": null,
   "metadata": {
    "collapsed": true
   },
   "outputs": [],
   "source": []
  },
  {
   "cell_type": "code",
   "execution_count": null,
   "metadata": {
    "collapsed": true
   },
   "outputs": [],
   "source": []
  }
 ],
 "metadata": {
  "kernelspec": {
   "display_name": "Python 2",
   "language": "python",
   "name": "python2"
  },
  "language_info": {
   "codemirror_mode": {
    "name": "ipython",
    "version": 2
   },
   "file_extension": ".py",
   "mimetype": "text/x-python",
   "name": "python",
   "nbconvert_exporter": "python",
   "pygments_lexer": "ipython2",
   "version": "2.7.6"
  }
 },
 "nbformat": 4,
 "nbformat_minor": 0
}
