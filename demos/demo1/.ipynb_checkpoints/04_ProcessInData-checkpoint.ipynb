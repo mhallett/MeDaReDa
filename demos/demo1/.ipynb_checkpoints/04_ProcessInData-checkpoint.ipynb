{
 "cells": [
  {
   "cell_type": "markdown",
   "metadata": {},
   "source": [
    "#Process In Data"
   ]
  },
  {
   "cell_type": "code",
   "execution_count": 25,
   "metadata": {
    "collapsed": true
   },
   "outputs": [],
   "source": [
    "import sqlite3\n",
    "import time\n",
    "import datetime"
   ]
  },
  {
   "cell_type": "code",
   "execution_count": 26,
   "metadata": {
    "collapsed": true
   },
   "outputs": [],
   "source": [
    "def processSinglePrice():\n",
    "    # get the next input row to process\n",
    "    conn = sqlite3.connect('in.db')\n",
    "    c = conn.cursor()\n",
    "    c.execute(\"SELECT min(iPriceId) FROM iPrice WHERE status = 'wait' \")\n",
    "    row = c.fetchone()[0]\n",
    "    \n",
    "    if row == None:\n",
    "        print 'No rows to input rows to process'\n",
    "        return\n",
    "        \n",
    "    c.execute(\"UPDATE iPrice SET status = 'processing' WHERE iPriceID = %s\" %row) #)) #, 'dPrice'))\n",
    "    conn.commit()\n",
    "    \n",
    "    # select data to process\n",
    "    c.execute(\"SELECT * FROM iPrice WHERE iPriceID = %s \" %row )\n",
    "    price_data = c.fetchone()\n",
    "    print price_data\n",
    "    iPriceId = price_data[0]\n",
    "    iDate = price_data[1]\n",
    "    status = price_data[2]\n",
    "    date = price_data[3]\n",
    "    symbol = price_data[4]\n",
    "    bid = price_data[5]\n",
    "    rate = price_data[6]\n",
    "    ask = price_data[7]\n",
    "\n",
    "    print ask\n",
    "    \n",
    "    # !! PROCESS DATA !!\n",
    "    dconn = sqlite3.connect('data.db')\n",
    "    dc = dconn.cursor()\n",
    "    \n",
    "    try:\n",
    "        start = datetime.datetime.now()\n",
    "        roll_ave = (rate + ask ) /2 # not really but will do for first example\n",
    "        error = 'good'\n",
    "        time.sleep(2.0/60.0)\n",
    "        end = datetime.datetime.now()\n",
    "    \n",
    "        # Insert data into data, and p table\n",
    "        print 'inserting into dTables'\n",
    "        dPrice = ( iPriceId, iDate, start, end, date, symbol, bid, roll_ave, ask )\n",
    "        dc.execute('INSERT INTO dPrice (iPriceId, iDate, pStartDate, pEndDate, date,symbol,bid,roll_ave,ask) \\\n",
    "                           VALUES (?,?,?,?,?,?,?,?,?)', dPrice)\n",
    "    \n",
    "        pPrice =   (iPriceId, iDate, start, end, error, date, symbol, bid, rate, ask )\n",
    "        dc.execute('INSERT INTO pPrice (iPriceId, iDate, pStartDate, pEndDate, error, date, symbol, bid, rate, ask)  \\\n",
    "                           VALUES (?,?,?,?,?,?,?,?,?,?)', pPrice)\n",
    "    except Exception, e:\n",
    "        print 'ERROR !!!', str(e)\n",
    "        print 'TODO write to pPrice ERROR msg'\n",
    "        \n",
    "    dconn.commit()\n",
    "    dconn.close()\n",
    "   \n",
    "    # set in table to done\n",
    "    conn = sqlite3.connect('in.db')\n",
    "    c = conn.cursor()   \n",
    "    c.execute(\"UPDATE iPrice SET status = 'done' WHERE iPriceID = %s\" %row) #)) #, 'dPrice'))\n",
    "    conn.commit()\n",
    "    conn.close()\n",
    "    print 'Done'\n"
   ]
  },
  {
   "cell_type": "code",
   "execution_count": null,
   "metadata": {
    "collapsed": true
   },
   "outputs": [],
   "source": []
  },
  {
   "cell_type": "code",
   "execution_count": null,
   "metadata": {
    "collapsed": true
   },
   "outputs": [],
   "source": [
    "print 'x'\n"
   ]
  },
  {
   "cell_type": "code",
   "execution_count": null,
   "metadata": {
    "collapsed": true
   },
   "outputs": [],
   "source": [
    "\n",
    "\n"
   ]
  },
  {
   "cell_type": "code",
   "execution_count": 27,
   "metadata": {
    "collapsed": false
   },
   "outputs": [
    {
     "name": "stdout",
     "output_type": "stream",
     "text": [
      "(27, u'2015-05-30 11:16:31.859444', u'processing', u'2015-05-30 15:15:00 UTC+0000', u'GBPUSD', 1.5289, 1.5295, 1.53)\n",
      "1.53\n",
      "inserting into dTables\n",
      "Done\n",
      "(28, u'2015-05-30 11:16:39.179710', u'processing', u'2015-05-30 15:15:00 UTC+0000', u'GBPUSD', 1.5289, 1.5295, 1.53)\n",
      "1.53\n",
      "inserting into dTables\n",
      "Done\n",
      "(29, u'2015-05-30 11:16:46.792799', u'processing', u'2015-05-30 15:15:00 UTC+0000', u'GBPUSD', 1.5289, 1.5295, 1.53)\n",
      "1.53\n",
      "inserting into dTables\n",
      "Done\n",
      "(30, u'2015-05-30 11:16:54.023519', u'processing', u'2015-05-30 15:15:00 UTC+0000', u'GBPUSD', 1.5289, 1.5295, 1.53)\n",
      "1.53\n",
      "inserting into dTables\n",
      "Done\n",
      "(31, u'2015-05-30 13:46:54.273525', u'processing', u'2015-05-30 16:55:00 UTC+0000', u'GBPUSD', 1.5289, 1.5295, 1.53)\n",
      "1.53\n",
      "inserting into dTables\n",
      "Done\n",
      "(32, u'2015-05-30 13:47:01.472458', u'processing', u'2015-05-30 16:55:00 UTC+0000', u'GBPUSD', 1.5289, 1.5295, 1.53)\n",
      "1.53\n",
      "inserting into dTables\n",
      "Done\n",
      "(33, u'2015-05-30 13:47:08.713723', u'processing', u'2015-05-30 16:55:00 UTC+0000', u'GBPUSD', 1.5289, 1.5295, 1.53)\n",
      "1.53\n",
      "inserting into dTables\n",
      "Done\n",
      "(34, u'2015-05-30 13:47:15.938801', u'processing', u'2015-05-30 16:55:00 UTC+0000', u'GBPUSD', 1.5289, 1.5295, 1.53)\n",
      "1.53\n",
      "inserting into dTables\n",
      "Done\n",
      "(35, u'2015-05-30 13:47:23.146648', u'processing', u'2015-05-30 16:55:00 UTC+0000', u'GBPUSD', 1.5289, 1.5295, 1.53)\n",
      "1.53\n",
      "inserting into dTables\n",
      "Done\n",
      "No rows to input rows to process\n"
     ]
    }
   ],
   "source": [
    "for x in range(10):\n",
    "    processSinglePrice()\n",
    "    \n",
    "print 'Done.'\n",
    "\n"
   ]
  },
  {
   "cell_type": "code",
   "execution_count": null,
   "metadata": {
    "collapsed": true
   },
   "outputs": [],
   "source": []
  },
  {
   "cell_type": "code",
   "execution_count": null,
   "metadata": {
    "collapsed": true
   },
   "outputs": [],
   "source": []
  },
  {
   "cell_type": "code",
   "execution_count": null,
   "metadata": {
    "collapsed": true
   },
   "outputs": [],
   "source": []
  },
  {
   "cell_type": "code",
   "execution_count": null,
   "metadata": {
    "collapsed": true
   },
   "outputs": [],
   "source": []
  },
  {
   "cell_type": "code",
   "execution_count": null,
   "metadata": {
    "collapsed": true
   },
   "outputs": [],
   "source": []
  },
  {
   "cell_type": "code",
   "execution_count": null,
   "metadata": {
    "collapsed": true
   },
   "outputs": [],
   "source": []
  }
 ],
 "metadata": {
  "kernelspec": {
   "display_name": "Python 2",
   "language": "python",
   "name": "python2"
  },
  "language_info": {
   "codemirror_mode": {
    "name": "ipython",
    "version": 2
   },
   "file_extension": ".py",
   "mimetype": "text/x-python",
   "name": "python",
   "nbconvert_exporter": "python",
   "pygments_lexer": "ipython2",
   "version": "2.7.6"
  }
 },
 "nbformat": 4,
 "nbformat_minor": 0
}
