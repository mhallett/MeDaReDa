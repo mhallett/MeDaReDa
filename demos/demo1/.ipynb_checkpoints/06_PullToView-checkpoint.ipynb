{
 "cells": [
  {
   "cell_type": "markdown",
   "metadata": {},
   "source": [
    "#Pull To View"
   ]
  },
  {
   "cell_type": "code",
   "execution_count": 6,
   "metadata": {
    "collapsed": true
   },
   "outputs": [],
   "source": [
    "import sqlite3\n",
    "import pandas as pd"
   ]
  },
  {
   "cell_type": "code",
   "execution_count": 7,
   "metadata": {
    "collapsed": true
   },
   "outputs": [],
   "source": [
    "data_db = 'data.db'\n",
    "view_db = 'view.db'"
   ]
  },
  {
   "cell_type": "code",
   "execution_count": 8,
   "metadata": {
    "collapsed": false
   },
   "outputs": [
    {
     "name": "stdout",
     "output_type": "stream",
     "text": [
      "Empty DataFrame\n",
      "Columns: [dPriceId, iPriceId, iDate, pStartDate, pEndDate, date, symbol, bid, roll_ave, ask]\n",
      "Index: []\n"
     ]
    }
   ],
   "source": [
    "# While True:\n",
    "\n",
    "# select row count from viewpoint and data\n",
    "\n",
    "connV = sqlite3.connect(view_db)\n",
    "df_dviewpoint = pd.read_sql(\"SELECT * from vViewpoint\",connV, index_col = 'vViewpointId') # where dTable = dPrice\n",
    "#vpricepos = df_dviewpoint.iloc[0,4] # need to add more where clauses\n",
    "connV.close()\n",
    "dPriceRow = df_dviewpoint['row'].values[0]\n",
    "\n",
    "\n",
    "# select relvant data from D and write to V\n",
    "connD = sqlite3.connect(data_db)\n",
    "df_d2vprice = pd.read_sql(\"SELECT * from dPrice where dPriceId > %s\" %dPriceRow, connD)\n",
    "print df_d2vprice\n",
    "connD.close()\n",
    "\n",
    "\n",
    "if not df_d2vprice.empty:\n",
    "    # in a cursor update the view and the counter\n",
    "\n",
    "    prices = df_d2vprice[['iDate','symbol','roll_ave']]\n",
    "    \n",
    "    # get max id\n",
    "    max_dPrice_id = df_d2vprice['dPriceId'].max()\n",
    "    print 'max_dPrice_id', max_dPrice_id\n",
    "\n",
    "    prices = prices.values.tolist()\n",
    " \n",
    "\n",
    "    connV = sqlite3.connect(view_db)\n",
    "    cV = connV.cursor()\n",
    "    cV.executemany('INSERT INTO vPrice (date, symbol, price) VALUES (?,?,?)', prices)\n",
    "    cV.execute(\"UPDATE vViewpoint SET row = %s WHERE dtable = 'dPrice'\" %max_dPrice_id) #)) #, 'dPrice'))\n",
    "    for row in cV.execute('SELECT * FROM vPrice'):\n",
    "        print row\n",
    "\n",
    "    for row in cV.execute('SELECT * FROM vViewpoint'):\n",
    "        print row\n",
    "\n",
    "    connV.commit()\n",
    "    connV.close()\n",
    "\n"
   ]
  },
  {
   "cell_type": "code",
   "execution_count": null,
   "metadata": {
    "collapsed": true
   },
   "outputs": [],
   "source": []
  },
  {
   "cell_type": "code",
   "execution_count": null,
   "metadata": {
    "collapsed": true
   },
   "outputs": [],
   "source": []
  },
  {
   "cell_type": "code",
   "execution_count": null,
   "metadata": {
    "collapsed": true
   },
   "outputs": [],
   "source": []
  }
 ],
 "metadata": {
  "kernelspec": {
   "display_name": "Python 2",
   "language": "python",
   "name": "python2"
  },
  "language_info": {
   "codemirror_mode": {
    "name": "ipython",
    "version": 2
   },
   "file_extension": ".py",
   "mimetype": "text/x-python",
   "name": "python",
   "nbconvert_exporter": "python",
   "pygments_lexer": "ipython2",
   "version": "2.7.6"
  }
 },
 "nbformat": 4,
 "nbformat_minor": 0
}
