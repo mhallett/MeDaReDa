{
 "cells": [
  {
   "cell_type": "markdown",
   "metadata": {},
   "source": [
    "# 08 Inline view"
   ]
  },
  {
   "cell_type": "code",
   "execution_count": 3,
   "metadata": {
    "collapsed": false
   },
   "outputs": [
    {
     "data": {
      "image/png": "[encoded data removed]",
      "text/plain": [
       "<matplotlib.figure.Figure at 0x10baa1810>"
      ]
     },
     "metadata": {},
     "output_type": "display_data"
    }
   ],
   "source": [
    "# Import matplotlib (plotting) and numpy (numerical arrays).\n",
    "# This enables their use in the Notebook.\n",
    "%matplotlib inline\n",
    "import matplotlib.pyplot as plt\n",
    "import numpy as np\n",
    "\n",
    "import sqlite3\n",
    "in_db = 'in.db'\n",
    "data_db = 'data.db'\n",
    "view_db = 'view.db'\n",
    "\n",
    "# Import IPython's interact function which is used below to\n",
    "# build the interactive widgets\n",
    "from IPython.html.widgets import interact\n",
    "\n",
    "def plot_sine(refresh=True): #, frequency=4.0, grid_points=12):\n",
    "    \"\"\"\n",
    "    Plot discrete samples of a sine wave on the interval ``[0, 1]``.\n",
    "    \"\"\"\n",
    "    \n",
    "    \"\"\"\"\n",
    "    conn = sqlite3.connect(view_db)\n",
    "    c = conn.cursor()\n",
    "    for row in c.execute('SELECT * FROM vPrice'):\n",
    "        print row\n",
    "    conn.close()\n",
    "    \n",
    "    \n",
    "    \n",
    "    #print refresh\n",
    "    plot_original = True\n",
    "    frequency = 4\n",
    "    grid_points = 12\n",
    "    x = np.linspace(0, 1, grid_points + 2)\n",
    "    y = np.sin(2 * frequency * np.pi * x)\n",
    "\n",
    "    xf = np.linspace(0, 1, 1000)\n",
    "    yf = np.sin(2 * frequency * np.pi * xf)\n",
    "\n",
    "    fig, ax = plt.subplots(figsize=(8, 6))\n",
    "    ax.set_xlabel('x')\n",
    "    ax.set_ylabel('signal')\n",
    "    ax.set_title('Aliasing in discretely sampled periodic signal')\n",
    "\n",
    "    if plot_original:\n",
    "        ax.plot(xf, yf, color='red', linestyle='solid', linewidth=2)\n",
    "\n",
    "    ax.plot(x,  y,  marker='o', linewidth=2)\n",
    "    \"\"\"\n",
    "    \n",
    "    fig1 = plt.figure()\n",
    "    fig1.suptitle('GBP/USD price')\n",
    "    fig1.autofmt_xdate()\n",
    "\n",
    "    ax1 = fig1.add_subplot(1,1,1)\n",
    "    \n",
    "    data = []\n",
    "    x = []\n",
    "    y = []\n",
    "    conn = sqlite3.connect(view_db, detect_types=sqlite3.PARSE_COLNAMES)\n",
    "    c = conn.cursor()\n",
    "    #df = pd.read_sql(\"SELECT count(*), status from iPrice group by status\",conn) #,conn,parse_dates={'date':'%Y-%m-%d'})\n",
    "    results = c.execute('SELECT  date as \"[timestamp]\", price from vPrice ') \n",
    "    #print results\n",
    "    for row in results:\n",
    "        #print row[0], row[1]\n",
    "        #print type(row[0])\n",
    "        d = row[0]\n",
    "        #dt = datetime.datetime.strptime(d, '%Y-%m-%d %H:%M:%S.%fZ')\n",
    "        \n",
    "        x.append(row[0])\n",
    "        y.append(row[1])\n",
    "    conn.close()\n",
    "\n",
    "    ax1.clear()\n",
    "    ax1.plot(x,y)\n",
    "    #ax1.legend(loc='upper left')\n",
    "\n",
    "\n",
    "# The interact function automatically builds a user interface for exploring the\n",
    "# plot_sine function.\n",
    "interact(plot_sine, refresh=True)#, frequency=(1.0, 22.0, 0.5), grid_points=(10, 16, 1), );\n",
    "\n"
   ]
  },
  {
   "cell_type": "code",
   "execution_count": null,
   "metadata": {
    "collapsed": true
   },
   "outputs": [],
   "source": []
  },
  {
   "cell_type": "code",
   "execution_count": null,
   "metadata": {
    "collapsed": true
   },
   "outputs": [],
   "source": []
  }
 ],
 "metadata": {
  "kernelspec": {
   "display_name": "Python 2",
   "language": "python",
   "name": "python2"
  },
  "language_info": {
   "codemirror_mode": {
    "name": "ipython",
    "version": 2
   },
   "file_extension": ".py",
   "mimetype": "text/x-python",
   "name": "python",
   "nbconvert_exporter": "python",
   "pygments_lexer": "ipython2",
   "version": "2.7.6"
  }
 },
 "nbformat": 4,
 "nbformat_minor": 0
}
