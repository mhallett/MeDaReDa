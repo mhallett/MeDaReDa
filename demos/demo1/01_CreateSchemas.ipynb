{
 "cells": [
  {
   "cell_type": "markdown",
   "metadata": {},
   "source": [
    "#Create Schemas"
   ]
  },
  {
   "cell_type": "code",
   "execution_count": 1,
   "metadata": {
    "collapsed": true
   },
   "outputs": [],
   "source": [
    "import sqlite3"
   ]
  },
  {
   "cell_type": "code",
   "execution_count": 2,
   "metadata": {
    "collapsed": true
   },
   "outputs": [],
   "source": [
    "in_db = 'in.db'\n",
    "data_db = 'data.db'\n",
    "view_db = 'view.db'"
   ]
  },
  {
   "cell_type": "code",
   "execution_count": 3,
   "metadata": {
    "collapsed": true
   },
   "outputs": [],
   "source": [
    "\n",
    "\n",
    "conn = sqlite3.connect(in_db)\n",
    "c  = conn.cursor()\n",
    "c.execute( '''DROP TABLE IF EXISTS iPrice   ''' )\n",
    "c.execute('''CREATE TABLE IF NOT EXISTS iPrice  ( \\\n",
    "                 iPriceId INTEGER PRIMARY KEY, \\\n",
    "                 iDate date,\n",
    "                 status text,\n",
    "                 date date, symbol text, bid real, rate real, ask real)''')\n",
    "   # no audit or market or type\n",
    "conn.commit()\n",
    "conn.close()\n",
    "\n"
   ]
  },
  {
   "cell_type": "code",
   "execution_count": 4,
   "metadata": {
    "collapsed": false
   },
   "outputs": [],
   "source": [
    "\n",
    "conn = sqlite3.connect(data_db)\n",
    "c  = conn.cursor()\n",
    "c.execute(\"DROP TABLE IF EXISTS dPrice \")\n",
    "c.execute('''CREATE TABLE IF NOT EXISTS dPrice  (\\\n",
    "               dPriceId INTEGER PRIMARY KEY, \\\n",
    "               iPriceId integer, \\\n",
    "               iDate date, \\\n",
    "               pStartDate date, \\\n",
    "               pEndDate date, \\\n",
    "               date date, symbol text, bid real, roll_ave real, ask real)''')\n",
    "   # no audit or market or type\n",
    "\n",
    "conn.commit()\n",
    "conn.close()\n",
    "\n"
   ]
  },
  {
   "cell_type": "code",
   "execution_count": 5,
   "metadata": {
    "collapsed": true
   },
   "outputs": [],
   "source": [
    "data_db = 'data.db'\n",
    "conn = sqlite3.connect(data_db)\n",
    "c  = conn.cursor()\n",
    "c.execute('''DROP TABLE IF EXISTS pPrice   ''')\n",
    "\n",
    "c.execute('''CREATE TABLE IF NOT EXISTS pPrice  (  \\\n",
    "                      pPriceId INTEGER PRIMARY KEY, \\\n",
    "                      iPriceID integer, \\\n",
    "                      iDate date, \\\n",
    "                      pStartDate date, \\\n",
    "                      pEndDate date, \\\n",
    "                      error text, \\\n",
    "                      date date, symbol text, bid real, rate real, ask real)             ''')\n",
    "  # no audit or market or type\n",
    "conn.commit()\n",
    "conn.close()"
   ]
  },
  {
   "cell_type": "markdown",
   "metadata": {},
   "source": [
    "vViewpoint"
   ]
  },
  {
   "cell_type": "code",
   "execution_count": 6,
   "metadata": {
    "collapsed": false
   },
   "outputs": [],
   "source": [
    "conn = sqlite3.connect(view_db)\n",
    "c  = conn.cursor()\n",
    "c.execute('''DROP TABLE IF EXISTS vViewpoint   ''')\n",
    "c.execute('''CREATE TABLE IF NOT EXISTS vViewpoint ( vViewpointId INTEGER PRIMARY KEY, dtable text, row int)''')\n",
    "   # id should be int\n",
    "\n",
    "conn.commit()\n",
    "conn.close()"
   ]
  },
  {
   "cell_type": "code",
   "execution_count": 7,
   "metadata": {
    "collapsed": false
   },
   "outputs": [],
   "source": [
    "conn = sqlite3.connect(view_db)\n",
    "c  = conn.cursor()\n",
    "c.execute('''DROP TABLE IF EXISTS vPrice   ''')\n",
    "c.execute('''CREATE TABLE IF NOT EXISTS vPrice  ( vPriceId INTEGER PRIMARY KEY, date timestamp, symbol text, price real)''')\n",
    "   # no audit or market or type    unique key\n",
    "#c.execute('''INSERT INTO vPrice (date, symbol, price) VALUES ('2000-01-01', 'VOD',10.2)''')\n",
    "conn.commit()\n",
    "conn.close()\n",
    "\n"
   ]
  },
  {
   "cell_type": "code",
   "execution_count": null,
   "metadata": {
    "collapsed": false
   },
   "outputs": [],
   "source": []
  },
  {
   "cell_type": "code",
   "execution_count": null,
   "metadata": {
    "collapsed": true
   },
   "outputs": [],
   "source": []
  },
  {
   "cell_type": "code",
   "execution_count": null,
   "metadata": {
    "collapsed": true
   },
   "outputs": [],
   "source": []
  }
 ],
 "metadata": {
  "kernelspec": {
   "display_name": "Python 2",
   "language": "python",
   "name": "python2"
  },
  "language_info": {
   "codemirror_mode": {
    "name": "ipython",
    "version": 2
   },
   "file_extension": ".py",
   "mimetype": "text/x-python",
   "name": "python",
   "nbconvert_exporter": "python",
   "pygments_lexer": "ipython2",
   "version": "2.7.6"
  }
 },
 "nbformat": 4,
 "nbformat_minor": 0
}
