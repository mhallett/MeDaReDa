{
 "cells": [
  {
   "cell_type": "markdown",
   "metadata": {},
   "source": [
    "# 00 Create Schemas"
   ]
  },
  {
   "cell_type": "code",
   "execution_count": 1,
   "metadata": {
    "collapsed": true
   },
   "outputs": [],
   "source": []
  },
  {
   "cell_type": "code",
   "execution_count": 1,
   "metadata": {
    "collapsed": true
   },
   "outputs": [],
   "source": [
    "import medareda_lib\n",
    "\n",
    "def get_conn():\n",
    "    return medareda_lib.get_conn()\n"
   ]
  },
  {
   "cell_type": "code",
   "execution_count": 16,
   "metadata": {
    "collapsed": true
   },
   "outputs": [],
   "source": [
    "def create_iPrice():\n",
    "    conn = get_conn()\n",
    "    cur = conn.cursor()\n",
    "    cur.execute('''DROP TABLE IF EXISTS iPrice   ''')\n",
    "    cur.execute('''CREATE TABLE IF NOT EXISTS iPrice  ( \\\n",
    "                 iPriceId SERIAL PRIMARY KEY, \\\n",
    "                 iDate timestamp,\n",
    "                 status text,\n",
    "                 date timestamp, symbol text, bid real, rate real, ask real)''')\n",
    "    conn.commit()\n",
    "    cur.close()\n",
    "    conn.close()"
   ]
  },
  {
   "cell_type": "code",
   "execution_count": 2,
   "metadata": {
    "collapsed": false
   },
   "outputs": [],
   "source": [
    "def create_vPrice():\n",
    "    conn = get_conn()\n",
    "    cur = conn.cursor()\n",
    "    cur.execute('''DROP TABLE IF EXISTS vPrice   ''')\n",
    "    cur.execute('''CREATE TABLE IF NOT EXISTS vPrice  \n",
    "                    ( vPriceId serial PRIMARY KEY, \n",
    "                      date timestamp, \n",
    "                      symbol text, \n",
    "                      price real,\n",
    "                      combinedRate real)''')\n",
    "    conn.commit()\n",
    "    cur.close()\n",
    "    conn.close()"
   ]
  },
  {
   "cell_type": "code",
   "execution_count": 6,
   "metadata": {
    "collapsed": true
   },
   "outputs": [],
   "source": [
    "def create_pPrice():\n",
    "    conn = get_conn()\n",
    "    c  = conn.cursor()\n",
    "    c.execute('''DROP TABLE IF EXISTS pPrice   ''')\n",
    "\n",
    "    c.execute('''CREATE TABLE IF NOT EXISTS pPrice  (  \\\n",
    "                          pPriceId SERIAL PRIMARY KEY, \\\n",
    "                          iPriceID integer, \\\n",
    "                          iDate timestamp, \\\n",
    "                          pStartDate timestamp, \\\n",
    "                          pEndDate timestamp, \\\n",
    "                          worker text, \\\n",
    "                          error text, \\\n",
    "                          date timestamp, symbol text, bid real, rate real, ask real)             ''')\n",
    "      # no audit or market or type\n",
    "    conn.commit()\n",
    "    conn.close()"
   ]
  },
  {
   "cell_type": "code",
   "execution_count": 19,
   "metadata": {
    "collapsed": false
   },
   "outputs": [],
   "source": [
    "def create_dPrice():\n",
    "    conn = get_conn()\n",
    "    c  = conn.cursor()\n",
    "    c.execute(\"DROP TABLE IF EXISTS dPrice \")\n",
    "    c.execute('''CREATE TABLE IF NOT EXISTS dPrice  (\\\n",
    "                   dPriceId SERIAL PRIMARY KEY, \\\n",
    "                   iPriceId integer, \\\n",
    "                   iDate timestamp, \\\n",
    "                   pStartDate timestamp, \\\n",
    "                   pEndDate timestamp, \\\n",
    "                   date timestamp, symbol text, bid real, roll_ave real, ask real)''')\n",
    "       # no audit or market or type\n",
    "\n",
    "    conn.commit()\n",
    "    conn.close()\n",
    "\n"
   ]
  },
  {
   "cell_type": "code",
   "execution_count": 10,
   "metadata": {
    "collapsed": false
   },
   "outputs": [],
   "source": [
    "def register_price():\n",
    "    print 'register_price'\n",
    "    conn = get_conn()\n",
    "    c = conn.cursor()\n",
    "    viewpoint = [('dPrice', 0),]\n",
    "    c.execute(\"INSERT INTO vViewpoint (dtable, row) VALUES ('dPrice',0)\" )\n",
    "    conn.commit()\n",
    "\n",
    "    conn.close()"
   ]
  },
  {
   "cell_type": "code",
   "execution_count": 4,
   "metadata": {
    "collapsed": true
   },
   "outputs": [],
   "source": [
    "def create_vViewpoint():\n",
    "    conn = get_conn()\n",
    "    c  = conn.cursor()\n",
    "    c.execute('''DROP TABLE IF EXISTS vViewpoint   ''')\n",
    "    c.execute('''CREATE TABLE IF NOT EXISTS vViewpoint ( vViewpointId SERIAL PRIMARY KEY, dtable text, row int)''')\n",
    "       # id should be int\n",
    "\n",
    "    conn.commit()\n",
    "    conn.close()"
   ]
  },
  {
   "cell_type": "code",
   "execution_count": 17,
   "metadata": {
    "collapsed": false
   },
   "outputs": [],
   "source": [
    "create_iPrice()"
   ]
  },
  {
   "cell_type": "code",
   "execution_count": 20,
   "metadata": {
    "collapsed": false
   },
   "outputs": [],
   "source": [
    "create_dPrice()"
   ]
  },
  {
   "cell_type": "code",
   "execution_count": 7,
   "metadata": {
    "collapsed": true
   },
   "outputs": [],
   "source": [
    "create_pPrice()"
   ]
  },
  {
   "cell_type": "code",
   "execution_count": 8,
   "metadata": {
    "collapsed": true
   },
   "outputs": [],
   "source": [
    "create_vViewpoint()"
   ]
  },
  {
   "cell_type": "code",
   "execution_count": 11,
   "metadata": {
    "collapsed": false
   },
   "outputs": [
    {
     "name": "stdout",
     "output_type": "stream",
     "text": [
      "register_price\n"
     ]
    }
   ],
   "source": [
    "register_price()"
   ]
  },
  {
   "cell_type": "code",
   "execution_count": 12,
   "metadata": {
    "collapsed": false
   },
   "outputs": [],
   "source": [
    "create_vPrice()"
   ]
  },
  {
   "cell_type": "code",
   "execution_count": null,
   "metadata": {
    "collapsed": true
   },
   "outputs": [],
   "source": []
  }
 ],
 "metadata": {
  "kernelspec": {
   "display_name": "Python 2",
   "language": "python",
   "name": "python2"
  },
  "language_info": {
   "codemirror_mode": {
    "name": "ipython",
    "version": 2
   },
   "file_extension": ".py",
   "mimetype": "text/x-python",
   "name": "python",
   "nbconvert_exporter": "python",
   "pygments_lexer": "ipython2",
   "version": "2.7.10"
  }
 },
 "nbformat": 4,
 "nbformat_minor": 0
}
