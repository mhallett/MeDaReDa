{
 "cells": [
  {
   "cell_type": "markdown",
   "metadata": {},
   "source": [
    "# 07 View"
   ]
  },
  {
   "cell_type": "code",
   "execution_count": 57,
   "metadata": {
    "collapsed": false
   },
   "outputs": [],
   "source": [
    "#%matplotlib inline\n",
    "\n",
    "\n",
    "import pandas as pd\n",
    "import matplotlib.pyplot as plt\n",
    "import matplotlib.animation as animation\n",
    "import datetime"
   ]
  },
  {
   "cell_type": "code",
   "execution_count": 58,
   "metadata": {
    "collapsed": true
   },
   "outputs": [],
   "source": [
    "#import psycopg2\n",
    "#import urlparse"
   ]
  },
  {
   "cell_type": "code",
   "execution_count": 59,
   "metadata": {
    "collapsed": false
   },
   "outputs": [],
   "source": [
    "import medareda_lib\n",
    "\n",
    "def get_conn():\n",
    "    return medareda_lib.get_conn()"
   ]
  },
  {
   "cell_type": "code",
   "execution_count": null,
   "metadata": {
    "collapsed": true
   },
   "outputs": [],
   "source": []
  },
  {
   "cell_type": "code",
   "execution_count": null,
   "metadata": {
    "collapsed": false
   },
   "outputs": [],
   "source": [
    "\n"
   ]
  },
  {
   "cell_type": "code",
   "execution_count": 60,
   "metadata": {
    "collapsed": false
   },
   "outputs": [
    {
     "name": "stdout",
     "output_type": "stream",
     "text": [
      "PG [(166L,)]\n"
     ]
    }
   ],
   "source": [
    "# select count from vPrice\n",
    "connpg = get_conn()\n",
    "curpg = connpg.cursor()\n",
    "curpg.execute(\"SELECT count(*) FROM vPrice;\")\n",
    "print 'PG', curpg.fetchall()\n",
    "\n",
    "connpg.commit()\n",
    "curpg.close()\n",
    "connpg.close()\n"
   ]
  },
  {
   "cell_type": "code",
   "execution_count": null,
   "metadata": {
    "collapsed": false
   },
   "outputs": [],
   "source": [
    "# show plot\n",
    "fig1 = plt.figure()\n",
    "fig1.suptitle('CCY Prices')\n",
    "fig1.autofmt_xdate()\n",
    "\n",
    "ax1 = fig1.add_subplot(1,1,1)\n",
    "\n",
    "print 'Drawing plot'\n",
    "\n",
    "def animate1(i):\n",
    "    connpg = get_conn()\n",
    "    \n",
    "    curpg = connpg.cursor()\n",
    "    curpg.execute(\"SELECT date, price FROM vPrice where symbol = 'GBPUSD';\")\n",
    "    results =  curpg.fetchall()\n",
    "    \n",
    "    connpg.commit()\n",
    "    curpg.close()\n",
    "    connpg.close()\n",
    "    \n",
    "    data = []\n",
    "    x = []\n",
    "    y = []\n",
    " \n",
    "    for row in results:        \n",
    "        x.append(row[0])\n",
    "        y.append(row[1])\n",
    "        \n",
    "    \n",
    "    connpg = get_conn()\n",
    "    curpg = connpg.cursor()\n",
    "    curpg.execute(\"SELECT date, price FROM vPrice where symbol = 'USDEUR';\")\n",
    "    results =  curpg.fetchall()\n",
    "    \n",
    "    connpg.commit()\n",
    "    curpg.close()\n",
    "    connpg.close()\n",
    "    \n",
    "    data2 = []\n",
    "    x2 = []\n",
    "    y2 = []\n",
    " \n",
    "    for row in results:        \n",
    "        x2.append(row[0])\n",
    "        y2.append(row[1])   \n",
    "        \n",
    "\n",
    "    connpg = get_conn()\n",
    "    curpg = connpg.cursor()\n",
    "    curpg.execute(\"SELECT date, price FROM vPrice where symbol = 'EURGBP';\")\n",
    "    results =  curpg.fetchall()\n",
    "    \n",
    "    connpg.commit()\n",
    "    curpg.close()\n",
    "    connpg.close()\n",
    "    \n",
    "    data3 = []\n",
    "    x3 = []\n",
    "    y3 = []\n",
    " \n",
    "    for row in results:        \n",
    "        x3.append(row[0])\n",
    "        y3.append(row[1])\n",
    "        \n",
    "\n",
    "    connpg = get_conn()\n",
    "    curpg = connpg.cursor()\n",
    "    curpg.execute(\"SELECT date, combinedrate FROM vPrice;\")\n",
    "    results =  curpg.fetchall()\n",
    "    \n",
    "    connpg.commit()\n",
    "    curpg.close()\n",
    "    connpg.close()\n",
    "    \n",
    "    data4 = []\n",
    "    x4 = []\n",
    "    y4 = []\n",
    " \n",
    "    for row in results:        \n",
    "        x4.append(row[0])\n",
    "        y4.append(row[1])\n",
    "        \n",
    "\n",
    "    ax1.clear()\n",
    "    ax1.plot(x,y, label = 'GBPUSD')\n",
    "    ax1.plot(x2,y2, label = 'USDEUR')\n",
    "    ax1.plot(x3,y3, label = 'EURGBP')\n",
    "    ax1.plot(x4,y4, label = 'Combined Rate')\n",
    "\n",
    "    ax1.legend(loc='upper left')\n",
    "    \n",
    "    labels = ax1.get_xticklabels()\n",
    "    plt.setp(labels, rotation='vertical', fontsize=10)\n",
    "\n",
    "    \n",
    "ani1 = animation.FuncAnimation(fig1,animate1, interval=2000)\n",
    "plt.show()"
   ]
  },
  {
   "cell_type": "code",
   "execution_count": null,
   "metadata": {
    "collapsed": true
   },
   "outputs": [],
   "source": []
  },
  {
   "cell_type": "code",
   "execution_count": null,
   "metadata": {
    "collapsed": true
   },
   "outputs": [],
   "source": []
  },
  {
   "cell_type": "code",
   "execution_count": null,
   "metadata": {
    "collapsed": false
   },
   "outputs": [],
   "source": []
  },
  {
   "cell_type": "code",
   "execution_count": null,
   "metadata": {
    "collapsed": true
   },
   "outputs": [],
   "source": []
  },
  {
   "cell_type": "code",
   "execution_count": null,
   "metadata": {
    "collapsed": true
   },
   "outputs": [],
   "source": []
  }
 ],
 "metadata": {
  "kernelspec": {
   "display_name": "Python 2",
   "language": "python",
   "name": "python2"
  }
 },
 "nbformat": 4,
 "nbformat_minor": 0
}
