{
 "cells": [
  {
   "cell_type": "markdown",
   "metadata": {},
   "source": [
    "# View"
   ]
  },
  {
   "cell_type": "code",
   "execution_count": 4,
   "metadata": {
    "collapsed": true
   },
   "outputs": [],
   "source": [
    "import sqlite3\n",
    "import pandas as pd\n",
    "import matplotlib.pyplot as plt\n",
    "import matplotlib.animation as animation\n",
    "import datetime"
   ]
  },
  {
   "cell_type": "code",
   "execution_count": 5,
   "metadata": {
    "collapsed": true
   },
   "outputs": [],
   "source": [
    "view_db = 'view.db'"
   ]
  },
  {
   "cell_type": "code",
   "execution_count": 6,
   "metadata": {
    "collapsed": false
   },
   "outputs": [
    {
     "name": "stdout",
     "output_type": "stream",
     "text": [
      "0\n",
      "2015-05-20 21:51:35.769710 1.55365\n",
      "<type 'datetime.datetime'>\n",
      "2015-05-20 21:51:42.956241 1.5535\n",
      "<type 'datetime.datetime'>\n",
      "2015-05-20 21:51:50.253742 1.55355\n",
      "<type 'datetime.datetime'>\n",
      "0\n",
      "2015-05-20 21:51:35.769710 1.55365\n",
      "<type 'datetime.datetime'>\n",
      "2015-05-20 21:51:42.956241 1.5535\n",
      "<type 'datetime.datetime'>\n",
      "2015-05-20 21:51:50.253742 1.55355\n",
      "<type 'datetime.datetime'>\n",
      "1\n",
      "2015-05-20 21:51:35.769710 1.55365\n",
      "<type 'datetime.datetime'>\n",
      "2015-05-20 21:51:42.956241 1.5535\n",
      "<type 'datetime.datetime'>\n",
      "2015-05-20 21:51:50.253742 1.55355\n",
      "<type 'datetime.datetime'>\n",
      "2\n",
      "2015-05-20 21:51:35.769710 1.55365\n",
      "<type 'datetime.datetime'>\n",
      "2015-05-20 21:51:42.956241 1.5535\n",
      "<type 'datetime.datetime'>\n",
      "2015-05-20 21:51:50.253742 1.55355\n",
      "<type 'datetime.datetime'>\n",
      "3\n",
      "2015-05-20 21:51:35.769710 1.55365\n",
      "<type 'datetime.datetime'>\n",
      "2015-05-20 21:51:42.956241 1.5535\n",
      "<type 'datetime.datetime'>\n",
      "2015-05-20 21:51:50.253742 1.55355\n",
      "<type 'datetime.datetime'>\n",
      "4\n",
      "2015-05-20 21:51:35.769710 1.55365\n",
      "<type 'datetime.datetime'>\n",
      "2015-05-20 21:51:42.956241 1.5535\n",
      "<type 'datetime.datetime'>\n",
      "2015-05-20 21:51:50.253742 1.55355\n",
      "<type 'datetime.datetime'>\n",
      "5\n",
      "2015-05-20 21:51:35.769710 1.55365\n",
      "<type 'datetime.datetime'>\n",
      "2015-05-20 21:51:42.956241 1.5535\n",
      "<type 'datetime.datetime'>\n",
      "2015-05-20 21:51:50.253742 1.55355\n",
      "<type 'datetime.datetime'>\n",
      "6\n",
      "2015-05-20 21:51:35.769710 1.55365\n",
      "<type 'datetime.datetime'>\n",
      "2015-05-20 21:51:42.956241 1.5535\n",
      "<type 'datetime.datetime'>\n",
      "2015-05-20 21:51:50.253742 1.55355\n",
      "<type 'datetime.datetime'>\n",
      "7\n",
      "2015-05-20 21:51:35.769710 1.55365\n",
      "<type 'datetime.datetime'>\n",
      "2015-05-20 21:51:42.956241 1.5535\n",
      "<type 'datetime.datetime'>\n",
      "2015-05-20 21:51:50.253742 1.55355\n",
      "<type 'datetime.datetime'>\n",
      "8\n",
      "2015-05-20 21:51:35.769710 1.55365\n",
      "<type 'datetime.datetime'>\n",
      "2015-05-20 21:51:42.956241 1.5535\n",
      "<type 'datetime.datetime'>\n",
      "2015-05-20 21:51:50.253742 1.55355\n",
      "<type 'datetime.datetime'>\n",
      "9\n",
      "2015-05-20 21:51:35.769710 1.55365\n",
      "<type 'datetime.datetime'>\n",
      "2015-05-20 21:51:42.956241 1.5535\n",
      "<type 'datetime.datetime'>\n",
      "2015-05-20 21:51:50.253742 1.55355\n",
      "<type 'datetime.datetime'>\n",
      "10\n",
      "2015-05-20 21:51:35.769710 1.55365\n",
      "<type 'datetime.datetime'>\n",
      "2015-05-20 21:51:42.956241 1.5535\n",
      "<type 'datetime.datetime'>\n",
      "2015-05-20 21:51:50.253742 1.55355\n",
      "<type 'datetime.datetime'>\n",
      "11\n",
      "2015-05-20 21:51:35.769710 1.55365\n",
      "<type 'datetime.datetime'>\n",
      "2015-05-20 21:51:42.956241 1.5535\n",
      "<type 'datetime.datetime'>\n",
      "2015-05-20 21:51:50.253742 1.55355\n",
      "<type 'datetime.datetime'>\n",
      "12\n",
      "2015-05-20 21:51:35.769710 1.55365\n",
      "<type 'datetime.datetime'>\n",
      "2015-05-20 21:51:42.956241 1.5535\n",
      "<type 'datetime.datetime'>\n",
      "2015-05-20 21:51:50.253742 1.55355\n",
      "<type 'datetime.datetime'>\n",
      "13\n",
      "2015-05-20 21:51:35.769710 1.55365\n",
      "<type 'datetime.datetime'>\n",
      "2015-05-20 21:51:42.956241 1.5535\n",
      "<type 'datetime.datetime'>\n",
      "2015-05-20 21:51:50.253742 1.55355\n",
      "<type 'datetime.datetime'>\n",
      "14\n",
      "2015-05-20 21:51:35.769710 1.55365\n",
      "<type 'datetime.datetime'>\n",
      "2015-05-20 21:51:42.956241 1.5535\n",
      "<type 'datetime.datetime'>\n",
      "2015-05-20 21:51:50.253742 1.55355\n",
      "<type 'datetime.datetime'>\n",
      "15\n",
      "2015-05-20 21:51:35.769710 1.55365\n",
      "<type 'datetime.datetime'>\n",
      "2015-05-20 21:51:42.956241 1.5535\n",
      "<type 'datetime.datetime'>\n",
      "2015-05-20 21:51:50.253742 1.55355\n",
      "<type 'datetime.datetime'>\n",
      "16\n",
      "2015-05-20 21:51:35.769710 1.55365\n",
      "<type 'datetime.datetime'>\n",
      "2015-05-20 21:51:42.956241 1.5535\n",
      "<type 'datetime.datetime'>\n",
      "2015-05-20 21:51:50.253742 1.55355\n",
      "<type 'datetime.datetime'>\n"
     ]
    },
    {
     "name": "stderr",
     "output_type": "stream",
     "text": [
      "/System/Library/Frameworks/Python.framework/Versions/2.7/Extras/lib/python/matplotlib/axes.py:4747: UserWarning: No labeled objects found. Use label='...' kwarg on individual plots.\n",
      "  warnings.warn(\"No labeled objects found. \"\n"
     ]
    }
   ],
   "source": [
    "fig1 = plt.figure()\n",
    "fig1.suptitle('GBP/USD price')\n",
    "fig1.autofmt_xdate()\n",
    "\n",
    "ax1 = fig1.add_subplot(1,1,1)\n",
    "\n",
    "def animate1(i):\n",
    "    print i\n",
    "    \n",
    "    data = []\n",
    "    x = []\n",
    "    y = []\n",
    "    conn = sqlite3.connect(view_db, detect_types=sqlite3.PARSE_COLNAMES)\n",
    "    c = conn.cursor()\n",
    "    #df = pd.read_sql(\"SELECT count(*), status from iPrice group by status\",conn) #,conn,parse_dates={'date':'%Y-%m-%d'})\n",
    "    results = c.execute('SELECT  date as \"[timestamp]\", price from vPrice ') \n",
    "    #print results\n",
    "    for row in results:\n",
    "        print row[0], row[1]\n",
    "        print type(row[0])\n",
    "        d = row[0]\n",
    "        #dt = datetime.datetime.strptime(d, '%Y-%m-%d %H:%M:%S.%fZ')\n",
    "        \n",
    "        x.append(row[0])\n",
    "        y.append(row[1])\n",
    "    conn.close()\n",
    "\n",
    "    ax1.clear()\n",
    "    ax1.plot(x,y)\n",
    "    ax1.legend(loc='upper left')\n",
    "\n",
    "\n",
    "    \n",
    "ani1 = animation.FuncAnimation(fig1,animate1, interval=1000)\n",
    "plt.show()"
   ]
  },
  {
   "cell_type": "code",
   "execution_count": null,
   "metadata": {
    "collapsed": true
   },
   "outputs": [],
   "source": []
  },
  {
   "cell_type": "code",
   "execution_count": null,
   "metadata": {
    "collapsed": true
   },
   "outputs": [],
   "source": []
  },
  {
   "cell_type": "code",
   "execution_count": null,
   "metadata": {
    "collapsed": true
   },
   "outputs": [],
   "source": []
  }
 ],
 "metadata": {
  "kernelspec": {
   "display_name": "Python 2",
   "language": "python",
   "name": "python2"
  },
  "language_info": {
   "codemirror_mode": {
    "name": "ipython",
    "version": 2
   },
   "file_extension": ".py",
   "mimetype": "text/x-python",
   "name": "python",
   "nbconvert_exporter": "python",
   "pygments_lexer": "ipython2",
   "version": "2.7.6"
  }
 },
 "nbformat": 4,
 "nbformat_minor": 0
}
