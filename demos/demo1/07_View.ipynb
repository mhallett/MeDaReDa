{
 "cells": [
  {
   "cell_type": "markdown",
   "metadata": {},
   "source": [
    "# 07 View"
   ]
  },
  {
   "cell_type": "code",
   "execution_count": 23,
   "metadata": {
    "collapsed": true
   },
   "outputs": [],
   "source": [
    "#%matplotlib inline\n",
    "\n",
    "\n",
    "import pandas as pd\n",
    "import matplotlib.pyplot as plt\n",
    "import matplotlib.animation as animation\n",
    "import datetime"
   ]
  },
  {
   "cell_type": "code",
   "execution_count": 24,
   "metadata": {
    "collapsed": true
   },
   "outputs": [],
   "source": [
    "#import psycopg2\n",
    "#import urlparse"
   ]
  },
  {
   "cell_type": "code",
   "execution_count": 25,
   "metadata": {
    "collapsed": false
   },
   "outputs": [],
   "source": [
    "import medareda_lib\n",
    "\n",
    "def get_conn():\n",
    "    return medareda_lib.get_conn()"
   ]
  },
  {
   "cell_type": "code",
   "execution_count": null,
   "metadata": {
    "collapsed": true
   },
   "outputs": [],
   "source": []
  },
  {
   "cell_type": "code",
   "execution_count": null,
   "metadata": {
    "collapsed": false
   },
   "outputs": [],
   "source": [
    "\n"
   ]
  },
  {
   "cell_type": "code",
   "execution_count": 26,
   "metadata": {
    "collapsed": false
   },
   "outputs": [
    {
     "name": "stdout",
     "output_type": "stream",
     "text": [
      "PG [(12050L,)]\n"
     ]
    }
   ],
   "source": [
    "# select count from vPrice\n",
    "connpg = get_conn()\n",
    "curpg = connpg.cursor()\n",
    "curpg.execute(\"SELECT count(*) FROM vPrice;\")\n",
    "print 'PG', curpg.fetchall()\n",
    "\n",
    "connpg.commit()\n",
    "curpg.close()\n",
    "connpg.close()\n"
   ]
  },
  {
   "cell_type": "code",
   "execution_count": 27,
   "metadata": {
    "collapsed": false
   },
   "outputs": [
    {
     "name": "stdout",
     "output_type": "stream",
     "text": [
      "Drawing plot\n"
     ]
    }
   ],
   "source": [
    "# show plot\n",
    "fig1 = plt.figure()\n",
    "fig1.suptitle('GBP/USD price')\n",
    "fig1.autofmt_xdate()\n",
    "\n",
    "ax1 = fig1.add_subplot(1,1,1)\n",
    "\n",
    "print 'Drawing plot'\n",
    "\n",
    "def animate1(i):\n",
    "    connpg = get_conn()\n",
    "    \n",
    "    curpg = connpg.cursor()\n",
    "    curpg.execute('SELECT date, price FROM vPrice;')\n",
    "    results =  curpg.fetchall()\n",
    "    \n",
    "    connpg.commit()\n",
    "    curpg.close()\n",
    "    connpg.close()\n",
    "    \n",
    "    data = []\n",
    "    x = []\n",
    "    y = []\n",
    " \n",
    "    for row in results:        \n",
    "        x.append(row[0])\n",
    "        y.append(row[1])\n",
    "\n",
    "    ax1.clear()\n",
    "    ax1.plot(x,y)\n",
    "    ax1.legend(loc='upper left')\n",
    "\n",
    "\n",
    "    \n",
    "ani1 = animation.FuncAnimation(fig1,animate1, interval=2000)\n",
    "plt.show()"
   ]
  },
  {
   "cell_type": "code",
   "execution_count": null,
   "metadata": {
    "collapsed": true
   },
   "outputs": [],
   "source": []
  },
  {
   "cell_type": "code",
   "execution_count": null,
   "metadata": {
    "collapsed": false
   },
   "outputs": [],
   "source": []
  },
  {
   "cell_type": "code",
   "execution_count": null,
   "metadata": {
    "collapsed": true
   },
   "outputs": [],
   "source": []
  },
  {
   "cell_type": "code",
   "execution_count": null,
   "metadata": {
    "collapsed": true
   },
   "outputs": [],
   "source": []
  }
 ],
 "metadata": {
  "kernelspec": {
   "display_name": "Python 2",
   "language": "python",
   "name": "python2"
  },
  "language_info": {
   "codemirror_mode": {
    "name": "ipython",
    "version": 2
   },
   "file_extension": ".py",
   "mimetype": "text/x-python",
   "name": "python",
   "nbconvert_exporter": "python",
   "pygments_lexer": "ipython2",
   "version": "2.7.6"
  }
 },
 "nbformat": 4,
 "nbformat_minor": 0
}
