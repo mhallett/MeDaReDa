{
 "cells": [
  {
   "cell_type": "code",
   "execution_count": 1,
   "metadata": {
    "collapsed": false
   },
   "outputs": [],
   "source": [
    "import medareda_lib\n"
   ]
  },
  {
   "cell_type": "markdown",
   "metadata": {},
   "source": [
    "# Plot Server count"
   ]
  },
  {
   "cell_type": "code",
   "execution_count": 2,
   "metadata": {
    "collapsed": false
   },
   "outputs": [],
   "source": [
    "import pandas as pd\n",
    "import matplotlib.pyplot as plt\n",
    "import matplotlib.animation as animation\n",
    "import matplotlib.ticker as ticker\n",
    "import datetime\n",
    "import numpy as np\n",
    "import worker_status\n",
    "\n",
    "#import urllib3\n",
    "#urllib3.disable_warnings()\n",
    "import requests.packages.urllib3\n",
    "requests.packages.urllib3.disable_warnings()"
   ]
  },
  {
   "cell_type": "code",
   "execution_count": 3,
   "metadata": {
    "collapsed": false
   },
   "outputs": [
    {
     "data": {
      "text/plain": [
       "<connection object at 0x10d630d60; dsn: 'host='5.79.26.24' dbname='mrdb' user='postgres' password=xxxxxxxx', closed: 0>"
      ]
     },
     "execution_count": 3,
     "metadata": {},
     "output_type": "execute_result"
    }
   ],
   "source": [
    "import medareda_lib\n",
    "    \n",
    "def get_conn():\n",
    "    return medareda_lib.get_conn()\n",
    "\n",
    "get_conn()"
   ]
  },
  {
   "cell_type": "code",
   "execution_count": 4,
   "metadata": {
    "collapsed": false
   },
   "outputs": [
    {
     "name": "stdout",
     "output_type": "stream",
     "text": [
      "Counter({u'ACTIVE': 4})\n"
     ]
    },
    {
     "name": "stderr",
     "output_type": "stream",
     "text": [
      "/Users/MarkHallett/venv/mr/lib/python2.7/site-packages/novaclient/v1_1/__init__.py:30: UserWarning: Module novaclient.v1_1 is deprecated (taken as a basis for novaclient.v2). The preferable way to get client class or object you can find in novaclient.client module.\n",
      "  warnings.warn(\"Module novaclient.v1_1 is deprecated (taken as a basis for \"\n"
     ]
    }
   ],
   "source": [
    "import pyrax\n",
    "import collections\n",
    "import medareda_lib\n",
    "    \n",
    "def get_server_states():\n",
    "    base_name = 'medaredaworker-'\n",
    "   \n",
    "    pyrax.set_setting(\"identity_type\", \"rackspace\")\n",
    "    default_region, user, password = medareda_lib.get_pyrax_details()\n",
    "    pyrax.set_default_region(default_region) \n",
    "    pyrax.set_credentials(user, password) \n",
    "\n",
    "    #cs = pyrax.cloudservers\n",
    "    servers = pyrax.cloudservers.list()\n",
    "    \n",
    "    states = []\n",
    "    counter = collections.Counter()\n",
    "    for s in servers:\n",
    "        if s.name.startswith(base_name):\n",
    "            counter[s.status] += 1\n",
    "            #print s.name, 'found'\n",
    "            #states.append(s.status)\n",
    "        #else:\n",
    "        #    print 'not counted', s.name\n",
    "   \n",
    "    #counter = collections.Counter()\n",
    "    #for word in states:\n",
    "    #    counter[word] += 1\n",
    "\n",
    "   \n",
    "    return counter\n",
    "    \n",
    "print get_server_states()"
   ]
  },
  {
   "cell_type": "code",
   "execution_count": 5,
   "metadata": {
    "collapsed": false
   },
   "outputs": [
    {
     "name": "stdout",
     "output_type": "stream",
     "text": [
      "{'processing': 4L, 'done': 1653L}\n"
     ]
    }
   ],
   "source": [
    "def get_iPrice_status():\n",
    "    conn = get_conn()\n",
    "    cur = conn.cursor()\n",
    "    cur.execute(\"SELECT count(*),status FROM iPrice group by status;\")\n",
    "    results = cur.fetchall()\n",
    "    conn.commit()\n",
    "    cur.close()\n",
    "    conn.close()\n",
    "    rtn = {}\n",
    "    for r in results:\n",
    "        rtn[r[1]] = r[0]\n",
    "    return rtn\n",
    "\n",
    "print get_iPrice_status()"
   ]
  },
  {
   "cell_type": "code",
   "execution_count": 6,
   "metadata": {
    "collapsed": false
   },
   "outputs": [
    {
     "name": "stdout",
     "output_type": "stream",
     "text": [
      "Drawing plot\n"
     ]
    }
   ],
   "source": [
    "# show plot\\n\",\n",
    "fig1 = plt.figure(figsize=(4,11) )\n",
    "fig1.suptitle('MedaReda worker monitoring')\n",
    "\n",
    "#connpg = get_conn()\\n\",\n",
    "#curpg = connpg.cursor()\\n\",\n",
    "print 'Drawing plot'\n",
    "def animate1(i):\n",
    "\n",
    "    # 1 -------------------\n",
    "    #server_statuses = ('Build','Standby','Active','Cooldown')\n",
    "    server_statuses = ('Build','Active')\n",
    "\n",
    "\n",
    "    states = get_server_states()\n",
    "    #print states\n",
    "    \n",
    "    pos_list_ss = range(2) #len(states))\\n\",\n",
    "   \n",
    "    standby = 0.001\n",
    "    cooldown = 0.001\n",
    "\n",
    "    building = states.get('BUILD',0.001)\n",
    "    working = states.get('ACTIVE',0.001) # - standby cooldown\n",
    "    #idle = states.get('IDLE',0.001)\n",
    "    \n",
    "    if building == 0.001:\n",
    "        if working == 0.001:\n",
    "            if standby == 0.001:\n",
    "                if cooldown == 0.001:\n",
    "                    building =  working = standby = cooldown = 0\n",
    "                    \n",
    "                    \n",
    "    ax1 = fig1.add_subplot(3,1,1)\n",
    "    ax1.clear()\n",
    "    ax1.xaxis.set_major_locator(ticker.FixedLocator(pos_list_ss))\n",
    "    ax1.xaxis.set_major_formatter(ticker.FixedFormatter((server_statuses)))\n",
    "    plt_r = plt.bar(pos_list_ss, (building,0),color = 'r', align = 'center')\n",
    "    #plt_y = plt.bar(pos_list_ss, (0,standby,0,0) ,color = 'y', align = 'center')\n",
    "    plt_g = plt.bar(pos_list_ss, (0,working) ,color = 'g', align = 'center')\n",
    "    #plt_b = plt.bar(pos_list_ss, (0,0,0,cooldown) ,color = 'b', align = 'center')\n",
    "\n",
    "    ax1.set_xlabel('State of Servers')     \n",
    "    \n",
    "    \n",
    "    # 2 -----------\n",
    "    \n",
    "    statuses = ('Build','Standby','Work','Cooldown')\n",
    "    states = get_server_states()\n",
    "    #print states\n",
    "    \n",
    "    pos_list = range(4) #len(states))\\n\",\n",
    "   \n",
    "    standby = 0.001\n",
    "    cooldown = 0.001\n",
    "\n",
    "    worker_statuses = worker_status.getWorkerStatuses()\n",
    "    \n",
    "    #print worker_statuses\n",
    "    \n",
    "    building = worker_statuses.get('build',0.001) #states.get('BUILD',0.001)\n",
    "    standby = worker_statuses.get('standby',0.001)\n",
    "    working = worker_statuses.get('work',0.001) #3 #states.get('ACTIVE',0.001) # - standby cooldown\n",
    "    cooldown = worker_statuses.get('cooldown',0.001)  #1 # = states.get('IDLE',0.001)\n",
    "    \n",
    "    if building == 0.001:\n",
    "        if working == 0.001:\n",
    "            if standby == 0.001:\n",
    "                if cooldown == 0.001:\n",
    "                    building =  working = standby = cooldown = 0\n",
    "       \n",
    "    ax2 = fig1.add_subplot(3,1,2)\n",
    "    ax2.clear()\n",
    "    ax2.xaxis.set_major_locator(ticker.FixedLocator(pos_list))\n",
    "    ax2.xaxis.set_major_formatter(ticker.FixedFormatter((statuses)))\n",
    "    plt_r = plt.bar(pos_list, (building,0,0,0),color = 'r', align = 'center')\n",
    "    plt_y = plt.bar(pos_list, (0,standby,0,0) ,color = 'y', align = 'center')\n",
    "    plt_g = plt.bar(pos_list, (0,0,working,0) ,color = 'g', align = 'center')\n",
    "    plt_b = plt.bar(pos_list, (0,0,0,cooldown) ,color = 'b', align = 'center')\n",
    "    ax2.set_xlabel('State of Workers')\n",
    "    \n",
    "    # 3 -----------\n",
    "    work_states = ('Wait','Process','Error')\n",
    "    iPrice_states = get_iPrice_status()\n",
    "    pos_wk_list = range(3)\n",
    "    wk_wait = iPrice_states.get('wait',0.001)\n",
    "    wk_processing = iPrice_states.get('processing',0.001)\n",
    "    wk_error = iPrice_states.get('error',0.001)\n",
    "    \n",
    "    if wk_wait == 0.001:\n",
    "        if wk_processing == 0.001:\n",
    "            if wk_error == 0.001:\n",
    "                wk_wait =  wk_processing = wk_error = 0\n",
    "                \n",
    "    #ax = plt.axes()\n",
    "\n",
    "    #ax1.set_ylabel('Count')\n",
    "    \n",
    "    \n",
    "    ax3 = fig1.add_subplot(3,1,3)\n",
    "    ax3.clear()\n",
    "    ax3.xaxis.set_major_locator(ticker.FixedLocator(pos_wk_list))\n",
    "    ax3.xaxis.set_major_formatter(ticker.FixedFormatter((work_states)))\n",
    "    plt_r3 = plt.bar(pos_wk_list, (wk_wait,0,0),color = 'b', align = 'center')\n",
    "    plt_g3 = plt.bar(pos_wk_list, (0,wk_processing,0) ,color = 'g', align = 'center')\n",
    "    plt_y3 = plt.bar(pos_wk_list, (0,0,wk_error) ,color = 'r', align = 'center')\n",
    "    ax3.set_xlabel('State of inPrices') \n",
    "    #ax2.set_ylabel('Count')\n",
    "    \n",
    "ani1 = animation.FuncAnimation(fig1,animate1, interval=2000)\n",
    "plt.show()\n"
   ]
  },
  {
   "cell_type": "code",
   "execution_count": null,
   "metadata": {
    "collapsed": true
   },
   "outputs": [],
   "source": []
  },
  {
   "cell_type": "code",
   "execution_count": null,
   "metadata": {
    "collapsed": true
   },
   "outputs": [],
   "source": []
  },
  {
   "cell_type": "code",
   "execution_count": null,
   "metadata": {
    "collapsed": true
   },
   "outputs": [],
   "source": []
  },
  {
   "cell_type": "code",
   "execution_count": null,
   "metadata": {
    "collapsed": true
   },
   "outputs": [],
   "source": []
  },
  {
   "cell_type": "code",
   "execution_count": null,
   "metadata": {
    "collapsed": true
   },
   "outputs": [],
   "source": []
  },
  {
   "cell_type": "code",
   "execution_count": null,
   "metadata": {
    "collapsed": true
   },
   "outputs": [],
   "source": []
  }
 ],
 "metadata": {
  "kernelspec": {
   "display_name": "Python 2",
   "language": "python",
   "name": "python2"
  },
  "language_info": {
   "codemirror_mode": {
    "name": "ipython",
    "version": 2
   },
   "file_extension": ".py",
   "mimetype": "text/x-python",
   "name": "python",
   "nbconvert_exporter": "python",
   "pygments_lexer": "ipython2",
   "version": "2.7.9"
  }
 },
 "nbformat": 4,
 "nbformat_minor": 0
}
