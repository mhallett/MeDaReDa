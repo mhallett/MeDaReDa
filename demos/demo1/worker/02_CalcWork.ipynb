{
 "cells": [
  {
   "cell_type": "markdown",
   "metadata": {},
   "source": [
    "# 02 calc work"
   ]
  },
  {
   "cell_type": "code",
   "execution_count": 27,
   "metadata": {
    "collapsed": true
   },
   "outputs": [],
   "source": [
    "import medareda_worker_lib\n",
    "\n",
    "def get_conn():\n",
    "    return medareda_worker_lib.get_conn()"
   ]
  },
  {
   "cell_type": "code",
   "execution_count": 52,
   "metadata": {
    "collapsed": false
   },
   "outputs": [
    {
     "data": {
      "text/plain": [
       "2"
      ]
     },
     "execution_count": 52,
     "metadata": {},
     "output_type": "execute_result"
    }
   ],
   "source": [
    "def count_price1():\n",
    "    conn = get_conn()\n",
    "    cur = conn.cursor()\n",
    "    cur.execute(\"SELECT count(*) FROM iPrice where status = 'wait';\")\n",
    "    count =  int(cur.fetchall()[0][0]) #[0]\n",
    "    #print count\n",
    "    conn.commit()\n",
    "    cur.close()\n",
    "    conn.close()\n",
    "    return count\n",
    "\n",
    "\n",
    "count_price1()"
   ]
  },
  {
   "cell_type": "code",
   "execution_count": 53,
   "metadata": {
    "collapsed": true
   },
   "outputs": [],
   "source": [
    "def calc_price_work():\n",
    "    work = 0.0\n",
    "    \n",
    "    # select count prices that have status wait and ccy = GBP/USD\n",
    "    count = count_price1()\n",
    "    #print count\n",
    "    work += count * 1.0\n",
    "    # select count prices that have status wait and ccy = GBP/eur\n",
    "    # count * 2\n",
    "    return work\n",
    "    "
   ]
  },
  {
   "cell_type": "code",
   "execution_count": 54,
   "metadata": {
    "collapsed": true
   },
   "outputs": [],
   "source": [
    "def calc_work():\n",
    "    work = 0.0\n",
    "    # for each input table\n",
    "    work += calc_price_work()\n",
    "    return work"
   ]
  },
  {
   "cell_type": "code",
   "execution_count": 55,
   "metadata": {
    "collapsed": false
   },
   "outputs": [
    {
     "name": "stdout",
     "output_type": "stream",
     "text": [
      "2.0\n"
     ]
    }
   ],
   "source": [
    "print calc_work()"
   ]
  },
  {
   "cell_type": "code",
   "execution_count": 32,
   "metadata": {
    "collapsed": false
   },
   "outputs": [
    {
     "name": "stdout",
     "output_type": "stream",
     "text": [
      "(2L,)\n"
     ]
    }
   ],
   "source": [
    "get_count1()"
   ]
  },
  {
   "cell_type": "code",
   "execution_count": null,
   "metadata": {
    "collapsed": true
   },
   "outputs": [],
   "source": []
  }
 ],
 "metadata": {
  "kernelspec": {
   "display_name": "Python 2",
   "language": "python",
   "name": "python2"
  },
  "language_info": {
   "codemirror_mode": {
    "name": "ipython",
    "version": 2
   },
   "file_extension": ".py",
   "mimetype": "text/x-python",
   "name": "python",
   "nbconvert_exporter": "python",
   "pygments_lexer": "ipython2",
   "version": "2.7.6"
  }
 },
 "nbformat": 4,
 "nbformat_minor": 0
}
