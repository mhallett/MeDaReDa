{
 "cells": [
  {
   "cell_type": "markdown",
   "metadata": {},
   "source": [
    "# 03 Office class"
   ]
  },
  {
   "cell_type": "code",
   "execution_count": 9,
   "metadata": {
    "collapsed": false
   },
   "outputs": [
    {
     "name": "stdout",
     "output_type": "stream",
     "text": [
      "xx\n"
     ]
    }
   ],
   "source": [
    "print 'xx'"
   ]
  },
  {
   "cell_type": "code",
   "execution_count": 10,
   "metadata": {
    "collapsed": false
   },
   "outputs": [],
   "source": [
    "import time\n",
    "import collections\n",
    "#import worker\n",
    "import server\n",
    "import medareda_lib\n",
    "from datetime import timedelta\n",
    "\n",
    "import urllib3\n",
    "urllib3.disable_warnings()\n",
    "\n",
    "import worker_status\n",
    "\n",
    "#import work"
   ]
  },
  {
   "cell_type": "code",
   "execution_count": 11,
   "metadata": {
    "collapsed": false
   },
   "outputs": [],
   "source": [
    "class Office(object):\n",
    "    def __init__(self,work):\n",
    "        self.work = work\n",
    "        self.basename = \"%s-%s\" %('medaredaworker',self.work)\n",
    "        name = ''\n",
    "    \n",
    "    \n",
    "    def server_states(self):\n",
    "        return server.get_server_states()\n",
    "\n",
    "    def countServers(self):\n",
    "        return server.countServers(self.basename)\n",
    "    \n",
    "    def countWorkers(self):\n",
    "        return worker_status.countWorkers(self.basename)\n",
    "        \n",
    "    def addWorker(self):        \n",
    "        image_name = '%s-i' %self.basename\n",
    "        name = server.createServer(self.basename, image_name)\n",
    "        worker_status.addWorker(name)       \n",
    "    \n",
    "    def removeWorker(self): # deleteServer\n",
    "        delete_name = server.delete(self.basename)\n",
    "        print 'DELETED', delete_name\n",
    "        worker_status.removeWorker(delete_name)\n",
    "\n",
    "        \n",
    "    def getProcessQueueLength(self):\n",
    "        conn = medareda_lib.get_conn()\n",
    "        cur = conn.cursor()\n",
    "        sql = \"SELECT count(*) from iPrice where status = 'wait' \"\n",
    "        cur.execute(sql)\n",
    "        results = cur.fetchall()\n",
    "        conn.commit()\n",
    "        conn.close()\n",
    "        count = results[0][0]\n",
    "        return count\n",
    "    \n",
    "    \n",
    "    def getProcessQueueTime(self):\n",
    "        conn = medareda_lib.get_conn()\n",
    "        cur = conn.cursor()\n",
    "        sql = \"SELECT min(date),max(date) from iPrice where status = 'wait' \"\n",
    "        cur.execute(sql)\n",
    "        results = cur.fetchall()\n",
    "        conn.commit()\n",
    "        conn.close()\n",
    "        print results\n",
    "        min_date = results[0][0]\n",
    "        max_date = results[0][1] # could use now\n",
    "        \n",
    "        if max_date == None: # ( no waiting rows)\n",
    "            return timedelta(seconds=0)\n",
    "        \n",
    "        queue_time = max_date - min_date\n",
    "        return queue_time\n",
    "    \n",
    "        \n",
    "    def reasonToStartServer(self):\n",
    "        if self.countServers() > 20: # max servers\n",
    "            return False\n",
    "        if self.countServers() < 2:\n",
    "            print 'TO FEW WORKERS'\n",
    "            return True\n",
    "        \n",
    "        queue_length = self.getProcessQueueLength()\n",
    "        if queue_length > 100:  # TODO max queue lenght\n",
    "            print 'QUEUE LENGHT TO LONG', queue_length\n",
    "            return True\n",
    "        \n",
    "        if self.getProcessQueueTime() > timedelta(seconds=30):\n",
    "            print \"PROCESSING TO SLOW\"\n",
    "            return True\n",
    "        return False\n",
    "            \n",
    "        \n",
    "    def reasonToStopServer(self):\n",
    "        if self.countServers() < 3 : # min workers 2\n",
    "            self.False\n",
    "            \n",
    "        if self.getProcessQueueLength() < self.countWorkers():\n",
    "            print \"MORE SERVERS THAN WORK\"\n",
    "            return True\n",
    "        \n",
    "        #if self.getProcessQueueTime() > 1: # min\n",
    "        #    return True\n",
    "        \n",
    "        return False\n",
    "    \n",
    "    def manageWorkers(self):\n",
    "        # get queue length (work)\n",
    "        # get max time in queue (work)\n",
    "        # get number of workers building\n",
    "        # get number of workers working\n",
    "        \n",
    "        if self.reasonToStartServer():  # work > 100 or time in queue > 1hr\n",
    "            self.addWorker()\n",
    "        elif self.reasonToStopServer(): # que < servers * 2\n",
    "            time.sleep(5) \n",
    "            if self.reasonToStopServer():\n",
    "                self.removeWorker()\n",
    "        # else:\n",
    "        #    time.sleep(5)\n",
    "        print 'x'\n",
    "        pass\n",
    "    \n",
    "    def shutDown(self):\n",
    "        #cs = self.get_cs()\n",
    "        print 'SHUTDOWN TODO'\n",
    "        return\n",
    "        for server in  pyrax.cloudservers.list():\n",
    "            server_name = server.name\n",
    "            if server_name.startswith(self.basename):\n",
    "                if server.status == 'ACTIVE':\n",
    "                    print 'Delete', server_name\n",
    "                    server.delete()\n",
    "            #else:\n",
    "            #    print 'leave', server.name\n",
    "            "
   ]
  },
  {
   "cell_type": "markdown",
   "metadata": {
    "collapsed": true
   },
   "source": [
    "test"
   ]
  },
  {
   "cell_type": "code",
   "execution_count": 33,
   "metadata": {
    "collapsed": false
   },
   "outputs": [
    {
     "name": "stdout",
     "output_type": "stream",
     "text": [
      "start\n",
      "host 95.138.170.160\n",
      "Worker count ="
     ]
    },
    {
     "name": "stderr",
     "output_type": "stream",
     "text": [
      "/Library/Python/2.7/site-packages/requests/packages/urllib3/connection.py:251: SecurityWarning: Certificate has no `subjectAltName`, falling back to check for a `commonName` for now. This feature is being removed by major browsers and deprecated by RFC 2818. (See https://github.com/shazow/urllib3/issues/497 for details.)\n",
      "  SecurityWarning\n",
      "/Library/Python/2.7/site-packages/requests/packages/urllib3/connection.py:251: SecurityWarning: Certificate has no `subjectAltName`, falling back to check for a `commonName` for now. This feature is being removed by major browsers and deprecated by RFC 2818. (See https://github.com/shazow/urllib3/issues/497 for details.)\n",
      "  SecurityWarning\n"
     ]
    },
    {
     "name": "stdout",
     "output_type": "stream",
     "text": [
      " 0\n",
      "create new server, called medaredaworker-iprice-2\n",
      "from image medaredaworker-iprice-i"
     ]
    },
    {
     "name": "stderr",
     "output_type": "stream",
     "text": [
      "/Library/Python/2.7/site-packages/requests/packages/urllib3/connection.py:251: SecurityWarning: Certificate has no `subjectAltName`, falling back to check for a `commonName` for now. This feature is being removed by major browsers and deprecated by RFC 2818. (See https://github.com/shazow/urllib3/issues/497 for details.)\n",
      "  SecurityWarning\n",
      "/Library/Python/2.7/site-packages/requests/packages/urllib3/connection.py:251: SecurityWarning: Certificate has no `subjectAltName`, falling back to check for a `commonName` for now. This feature is being removed by major browsers and deprecated by RFC 2818. (See https://github.com/shazow/urllib3/issues/497 for details.)\n",
      "  SecurityWarning\n"
     ]
    },
    {
     "name": "stdout",
     "output_type": "stream",
     "text": [
      "\n",
      "create server ..."
     ]
    },
    {
     "name": "stderr",
     "output_type": "stream",
     "text": [
      "/Library/Python/2.7/site-packages/requests/packages/urllib3/connection.py:251: SecurityWarning: Certificate has no `subjectAltName`, falling back to check for a `commonName` for now. This feature is being removed by major browsers and deprecated by RFC 2818. (See https://github.com/shazow/urllib3/issues/497 for details.)\n",
      "  SecurityWarning\n",
      "/Library/Python/2.7/site-packages/requests/packages/urllib3/connection.py:251: SecurityWarning: Certificate has no `subjectAltName`, falling back to check for a `commonName` for now. This feature is being removed by major browsers and deprecated by RFC 2818. (See https://github.com/shazow/urllib3/issues/497 for details.)\n",
      "  SecurityWarning\n"
     ]
    },
    {
     "name": "stdout",
     "output_type": "stream",
     "text": [
      "\n",
      "Adding woker status\n",
      "host 95.138.170.160\n"
     ]
    }
   ],
   "source": [
    "work = 'iprice'\n",
    "print 'start'\n",
    "\n",
    "def test():\n",
    "    \n",
    "    office = Office(work)\n",
    "\n",
    "    count = office.countWorkers()\n",
    "    print 'Worker count =', count\n",
    "\n",
    "    office.addWorker()\n",
    "    #office.removeWorker()\n",
    "\n",
    "    #office.getAmountOfWork() # queue lenght * weight\n",
    "\n",
    "    # for 1 hour, while time < now + 1hr\n",
    "\n",
    "    #print office.getProcessQueueTime()\n",
    "    #office.manageWorkers()\n",
    "\n",
    "    #office.shutDown()\n",
    "\n",
    "test()\n"
   ]
  },
  {
   "cell_type": "code",
   "execution_count": null,
   "metadata": {
    "collapsed": true
   },
   "outputs": [],
   "source": []
  },
  {
   "cell_type": "code",
   "execution_count": null,
   "metadata": {
    "collapsed": true
   },
   "outputs": [],
   "source": []
  },
  {
   "cell_type": "code",
   "execution_count": null,
   "metadata": {
    "collapsed": true
   },
   "outputs": [],
   "source": []
  },
  {
   "cell_type": "code",
   "execution_count": null,
   "metadata": {
    "collapsed": true
   },
   "outputs": [],
   "source": []
  },
  {
   "cell_type": "code",
   "execution_count": 8,
   "metadata": {
    "collapsed": false
   },
   "outputs": [
    {
     "name": "stderr",
     "output_type": "stream",
     "text": [
      "/Library/Python/2.7/site-packages/requests/packages/urllib3/connection.py:251: SecurityWarning: Certificate has no `subjectAltName`, falling back to check for a `commonName` for now. This feature is being removed by major browsers and deprecated by RFC 2818. (See https://github.com/shazow/urllib3/issues/497 for details.)\n",
      "  SecurityWarning\n",
      "/Library/Python/2.7/site-packages/requests/packages/urllib3/connection.py:251: SecurityWarning: Certificate has no `subjectAltName`, falling back to check for a `commonName` for now. This feature is being removed by major browsers and deprecated by RFC 2818. (See https://github.com/shazow/urllib3/issues/497 for details.)\n",
      "  SecurityWarning\n"
     ]
    },
    {
     "name": "stdout",
     "output_type": "stream",
     "text": [
      "Pre Number of servers in office 0\n",
      "Pre Number of workers in office = host 95.138.170.160\n",
      "9"
     ]
    },
    {
     "name": "stderr",
     "output_type": "stream",
     "text": [
      "/Library/Python/2.7/site-packages/requests/packages/urllib3/connection.py:251: SecurityWarning: Certificate has no `subjectAltName`, falling back to check for a `commonName` for now. This feature is being removed by major browsers and deprecated by RFC 2818. (See https://github.com/shazow/urllib3/issues/497 for details.)\n",
      "  SecurityWarning\n",
      "/Library/Python/2.7/site-packages/requests/packages/urllib3/connection.py:251: SecurityWarning: Certificate has no `subjectAltName`, falling back to check for a `commonName` for now. This feature is being removed by major browsers and deprecated by RFC 2818. (See https://github.com/shazow/urllib3/issues/497 for details.)\n",
      "  SecurityWarning\n"
     ]
    },
    {
     "name": "stdout",
     "output_type": "stream",
     "text": [
      "\n",
      "No server found to delete\n",
      "DELETED None\n",
      "Removing worker staus\n",
      "host 95.138.170.160\n",
      "host 95.138.170.160\n",
      "Post Number of servers in office"
     ]
    },
    {
     "name": "stderr",
     "output_type": "stream",
     "text": [
      "/Library/Python/2.7/site-packages/requests/packages/urllib3/connection.py:251: SecurityWarning: Certificate has no `subjectAltName`, falling back to check for a `commonName` for now. This feature is being removed by major browsers and deprecated by RFC 2818. (See https://github.com/shazow/urllib3/issues/497 for details.)\n",
      "  SecurityWarning\n",
      "/Library/Python/2.7/site-packages/requests/packages/urllib3/connection.py:251: SecurityWarning: Certificate has no `subjectAltName`, falling back to check for a `commonName` for now. This feature is being removed by major browsers and deprecated by RFC 2818. (See https://github.com/shazow/urllib3/issues/497 for details.)\n",
      "  SecurityWarning\n"
     ]
    },
    {
     "name": "stdout",
     "output_type": "stream",
     "text": [
      " 0\n",
      "Post Number of workers in office = host 95.138.170.160\n",
      "9\n"
     ]
    }
   ],
   "source": [
    "import mock\n",
    "import time\n",
    "\n",
    "#class workerTestCase(unittest.TestCase):\n",
    "@mock.patch('server._create_server')\n",
    "@mock.patch('server._delete')\n",
    "def test_office(c,d):\n",
    "    #w = worker.Worker1('iPrice')\n",
    "    #time.sleep(5)\n",
    "    #w.delete()\n",
    "\n",
    "    #def test_office(office):\n",
    "    office = Office('iPrice')\n",
    "    print 'Pre Number of servers in office', office.countServers()    \n",
    "    print 'Pre Number of workers in office =', office.countWorkers() \n",
    "    #office.addWorker()\n",
    "    #time.sleep(5)\n",
    "    office.removeWorker()\n",
    "    print 'Post Number of servers in office', office.countServers()\n",
    "    print 'Post Number of workers in office =', office.countWorkers()\n",
    "\n",
    "\n",
    "test_office()\n"
   ]
  },
  {
   "cell_type": "code",
   "execution_count": null,
   "metadata": {
    "collapsed": true
   },
   "outputs": [],
   "source": []
  },
  {
   "cell_type": "code",
   "execution_count": null,
   "metadata": {
    "collapsed": false
   },
   "outputs": [],
   "source": []
  },
  {
   "cell_type": "code",
   "execution_count": null,
   "metadata": {
    "collapsed": true
   },
   "outputs": [],
   "source": []
  },
  {
   "cell_type": "code",
   "execution_count": null,
   "metadata": {
    "collapsed": true
   },
   "outputs": [],
   "source": []
  }
 ],
 "metadata": {
  "kernelspec": {
   "display_name": "Python 2",
   "language": "python",
   "name": "python2"
  },
  "language_info": {
   "codemirror_mode": {
    "name": "ipython",
    "version": 2
   },
   "file_extension": ".py",
   "mimetype": "text/x-python",
   "name": "python",
   "nbconvert_exporter": "python",
   "pygments_lexer": "ipython2",
   "version": "2.7.6"
  }
 },
 "nbformat": 4,
 "nbformat_minor": 0
}
