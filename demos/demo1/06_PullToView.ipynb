{
 "cells": [
  {
   "cell_type": "markdown",
   "metadata": {},
   "source": [
    "# 06 Pull To View"
   ]
  },
  {
   "cell_type": "code",
   "execution_count": 9,
   "metadata": {
    "collapsed": true
   },
   "outputs": [],
   "source": [
    "import pandas as pd"
   ]
  },
  {
   "cell_type": "code",
   "execution_count": null,
   "metadata": {
    "collapsed": true
   },
   "outputs": [],
   "source": []
  },
  {
   "cell_type": "code",
   "execution_count": 10,
   "metadata": {
    "collapsed": false
   },
   "outputs": [],
   "source": [
    "import medareda_lib\n",
    "\n",
    "def get_conn():\n",
    "    return medareda_lib.get_conn()"
   ]
  },
  {
   "cell_type": "code",
   "execution_count": 11,
   "metadata": {
    "collapsed": false
   },
   "outputs": [],
   "source": [
    "def get_max_pulled_data_row():\n",
    "    '''Get the number of the last data pulled to view'''\n",
    "    conn = get_conn()\n",
    "    cur = conn.cursor()\n",
    "    cur.execute(\"SELECT row FROM vViewpoint where dtable = 'dPrice'\")\n",
    "    max_processed_data_row = cur.fetchall()[0][0]\n",
    "    #print 'max_processed_data_row',max_processed_data_row\n",
    "    conn.commit()\n",
    "    cur.close()\n",
    "    conn.close()\n",
    "    #print 'max_processed_data_row', max_processed_data_row\n",
    "    return max_processed_data_row\n",
    "\n",
    "#get_max_processed_data_row()"
   ]
  },
  {
   "cell_type": "code",
   "execution_count": 12,
   "metadata": {
    "collapsed": false
   },
   "outputs": [],
   "source": [
    "def get_rows_to_pull(max_processed_data_row):\n",
    "    conn = get_conn()\n",
    "    cur = conn.cursor()\n",
    "    sql = \"SELECT * FROM dPrice where dPriceId > %s\" %max_processed_data_row\n",
    "    cur.execute(sql)\n",
    "    rows_to_process = cur.fetchall()\n",
    "    #print 'rows_to_process',rows_to_process\n",
    "    conn.commit()\n",
    "    cur.close()\n",
    "    conn.close()\n",
    "    return rows_to_process\n",
    "\n",
    "\n",
    "#get_rows_to_process(0)"
   ]
  },
  {
   "cell_type": "code",
   "execution_count": 13,
   "metadata": {
    "collapsed": false
   },
   "outputs": [],
   "source": [
    "\n",
    "\n",
    "def pull_to_view():  \n",
    "    #print '............'\n",
    "    max_pulled_data_row = get_max_pulled_data_row()\n",
    "    rows_to_pull = get_rows_to_pull(max_pulled_data_row)\n",
    "    if not rows_to_pull:\n",
    "        #print 'no data to pull'\n",
    "        return\n",
    "    #print 'rows_to_pull',rows_to_pull\n",
    "    \n",
    "    max_dPrice_id = rows_to_pull[len(rows_to_pull)-1][0]\n",
    "    #print 'max_dPrice_id',max_dPrice_id\n",
    "    \n",
    "    \n",
    "    update_data = []\n",
    "    for row_to_process in rows_to_pull: #df_d2vprice: #empty\n",
    "\n",
    "        #print '# in a cursor update the view and the counter'\n",
    "        #print row_to_process \n",
    "        insert_row_data = {}        \n",
    "    \n",
    "        #prices = df_d2vprice[['iDate','symbol','price','combined_rate']]\n",
    "        iDate = row_to_process[3]\n",
    "        symbol = row_to_process[6]\n",
    "        price = row_to_process[7] # bid\n",
    "        combined_rate = row_to_process[8]\n",
    "        \n",
    "        #print iDate, symbol, roll_ave\n",
    "        insert_row_data['iDate'] = iDate\n",
    "        insert_row_data['symbol'] = symbol\n",
    "        insert_row_data['price'] = price\n",
    "        insert_row_data['combined_rate'] = combined_rate\n",
    "        \n",
    "        update_data.append(insert_row_data)\n",
    "        # get max id\n",
    "        #max_dPrice_id = df_d2vprice['dPriceId'].max()\n",
    "        #print 'max_dPrice_id', max_dPrice_id\n",
    "\n",
    "        \n",
    "    if update_data:\n",
    "        #print 'update_vPrice', update_data\n",
    "        connV = get_conn()\n",
    "        cV = connV.cursor()\n",
    "        cV.executemany('INSERT INTO vPrice (date, symbol, price, combinedrate) VALUES (%(iDate)s, %(symbol)s, %(price)s, %(combined_rate)s )', update_data)\n",
    "\n",
    "        cV.execute(\"UPDATE vViewpoint SET row = %s WHERE dtable = 'dPrice'\" %max_dPrice_id) #)) #, 'dPrice'))\n",
    "\n",
    "        connV.commit()\n",
    "        connV.close()\n",
    "        \n",
    "       "
   ]
  },
  {
   "cell_type": "code",
   "execution_count": 14,
   "metadata": {
    "collapsed": false
   },
   "outputs": [
    {
     "ename": "DatabaseError",
     "evalue": "server closed the connection unexpectedly\n\tThis probably means the server terminated abnormally\n\tbefore or while processing the request.\n",
     "output_type": "error",
     "traceback": [
      "\u001b[0;31m---------------------------------------------------------------------------\u001b[0m",
      "\u001b[0;31mDatabaseError\u001b[0m                             Traceback (most recent call last)",
      "\u001b[0;32m<ipython-input-14-0ac7b2e55bc9>\u001b[0m in \u001b[0;36m<module>\u001b[0;34m()\u001b[0m\n\u001b[1;32m      1\u001b[0m \u001b[0;32mwhile\u001b[0m \u001b[0mTrue\u001b[0m\u001b[0;34m:\u001b[0m\u001b[0;34m\u001b[0m\u001b[0m\n\u001b[0;32m----> 2\u001b[0;31m     \u001b[0mpull_to_view\u001b[0m\u001b[0;34m(\u001b[0m\u001b[0;34m)\u001b[0m\u001b[0;34m\u001b[0m\u001b[0m\n\u001b[0m",
      "\u001b[0;32m<ipython-input-13-2fefdba284f9>\u001b[0m in \u001b[0;36mpull_to_view\u001b[0;34m()\u001b[0m\n\u001b[1;32m      3\u001b[0m \u001b[0;32mdef\u001b[0m \u001b[0mpull_to_view\u001b[0m\u001b[0;34m(\u001b[0m\u001b[0;34m)\u001b[0m\u001b[0;34m:\u001b[0m\u001b[0;34m\u001b[0m\u001b[0m\n\u001b[1;32m      4\u001b[0m     \u001b[0;31m#print '............'\u001b[0m\u001b[0;34m\u001b[0m\u001b[0;34m\u001b[0m\u001b[0m\n\u001b[0;32m----> 5\u001b[0;31m     \u001b[0mmax_pulled_data_row\u001b[0m \u001b[0;34m=\u001b[0m \u001b[0mget_max_pulled_data_row\u001b[0m\u001b[0;34m(\u001b[0m\u001b[0;34m)\u001b[0m\u001b[0;34m\u001b[0m\u001b[0m\n\u001b[0m\u001b[1;32m      6\u001b[0m     \u001b[0mrows_to_pull\u001b[0m \u001b[0;34m=\u001b[0m \u001b[0mget_rows_to_pull\u001b[0m\u001b[0;34m(\u001b[0m\u001b[0mmax_pulled_data_row\u001b[0m\u001b[0;34m)\u001b[0m\u001b[0;34m\u001b[0m\u001b[0m\n\u001b[1;32m      7\u001b[0m     \u001b[0;32mif\u001b[0m \u001b[0;32mnot\u001b[0m \u001b[0mrows_to_pull\u001b[0m\u001b[0;34m:\u001b[0m\u001b[0;34m\u001b[0m\u001b[0m\n",
      "\u001b[0;32m<ipython-input-11-f671bc6cdda7>\u001b[0m in \u001b[0;36mget_max_pulled_data_row\u001b[0;34m()\u001b[0m\n\u001b[1;32m      6\u001b[0m     \u001b[0mmax_processed_data_row\u001b[0m \u001b[0;34m=\u001b[0m \u001b[0mcur\u001b[0m\u001b[0;34m.\u001b[0m\u001b[0mfetchall\u001b[0m\u001b[0;34m(\u001b[0m\u001b[0;34m)\u001b[0m\u001b[0;34m[\u001b[0m\u001b[0;36m0\u001b[0m\u001b[0;34m]\u001b[0m\u001b[0;34m[\u001b[0m\u001b[0;36m0\u001b[0m\u001b[0;34m]\u001b[0m\u001b[0;34m\u001b[0m\u001b[0m\n\u001b[1;32m      7\u001b[0m     \u001b[0;31m#print 'max_processed_data_row',max_processed_data_row\u001b[0m\u001b[0;34m\u001b[0m\u001b[0;34m\u001b[0m\u001b[0m\n\u001b[0;32m----> 8\u001b[0;31m     \u001b[0mconn\u001b[0m\u001b[0;34m.\u001b[0m\u001b[0mcommit\u001b[0m\u001b[0;34m(\u001b[0m\u001b[0;34m)\u001b[0m\u001b[0;34m\u001b[0m\u001b[0m\n\u001b[0m\u001b[1;32m      9\u001b[0m     \u001b[0mcur\u001b[0m\u001b[0;34m.\u001b[0m\u001b[0mclose\u001b[0m\u001b[0;34m(\u001b[0m\u001b[0;34m)\u001b[0m\u001b[0;34m\u001b[0m\u001b[0m\n\u001b[1;32m     10\u001b[0m     \u001b[0mconn\u001b[0m\u001b[0;34m.\u001b[0m\u001b[0mclose\u001b[0m\u001b[0;34m(\u001b[0m\u001b[0;34m)\u001b[0m\u001b[0;34m\u001b[0m\u001b[0m\n",
      "\u001b[0;31mDatabaseError\u001b[0m: server closed the connection unexpectedly\n\tThis probably means the server terminated abnormally\n\tbefore or while processing the request.\n"
     ]
    }
   ],
   "source": [
    "while True:\n",
    "    pull_to_view()"
   ]
  },
  {
   "cell_type": "code",
   "execution_count": null,
   "metadata": {
    "collapsed": false
   },
   "outputs": [],
   "source": []
  },
  {
   "cell_type": "code",
   "execution_count": null,
   "metadata": {
    "collapsed": true
   },
   "outputs": [],
   "source": []
  },
  {
   "cell_type": "code",
   "execution_count": null,
   "metadata": {
    "collapsed": false
   },
   "outputs": [],
   "source": [
    "\n",
    "\n"
   ]
  },
  {
   "cell_type": "code",
   "execution_count": null,
   "metadata": {
    "collapsed": false
   },
   "outputs": [],
   "source": [
    "\n",
    "\n",
    "\n",
    "    \n",
    "    \n",
    "   "
   ]
  },
  {
   "cell_type": "code",
   "execution_count": null,
   "metadata": {
    "collapsed": true
   },
   "outputs": [],
   "source": []
  },
  {
   "cell_type": "code",
   "execution_count": null,
   "metadata": {
    "collapsed": true
   },
   "outputs": [],
   "source": []
  },
  {
   "cell_type": "code",
   "execution_count": null,
   "metadata": {
    "collapsed": true
   },
   "outputs": [],
   "source": []
  },
  {
   "cell_type": "code",
   "execution_count": null,
   "metadata": {
    "collapsed": true
   },
   "outputs": [],
   "source": []
  }
 ],
 "metadata": {
  "kernelspec": {
   "display_name": "Python 2",
   "language": "python",
   "name": "python2"
  },
  "language_info": {
   "codemirror_mode": {
    "name": "ipython",
    "version": 2
   },
   "file_extension": ".py",
   "mimetype": "text/x-python",
   "name": "python",
   "nbconvert_exporter": "python",
   "pygments_lexer": "ipython2",
   "version": "2.7.9"
  }
 },
 "nbformat": 4,
 "nbformat_minor": 0
}
