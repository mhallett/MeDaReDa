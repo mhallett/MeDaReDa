{
 "cells": [
  {
   "cell_type": "markdown",
   "metadata": {},
   "source": [
    "# 08 View inline posgres data"
   ]
  },
  {
   "cell_type": "code",
   "execution_count": 1,
   "metadata": {
    "collapsed": true
   },
   "outputs": [],
   "source": [
    "%matplotlib inline\n",
    "import pandas as pd\n",
    "import matplotlib.pyplot as plt\n",
    "#import matplotlib.animation as animation\n",
    "import datetime\n",
    "import psycopg2\n"
   ]
  },
  {
   "cell_type": "code",
   "execution_count": 3,
   "metadata": {
    "collapsed": false
   },
   "outputs": [],
   "source": [
    "import medareda_lib\n",
    "\n",
    "def get_conn():\n",
    "    return medareda_lib.get_conn()\n"
   ]
  },
  {
   "cell_type": "code",
   "execution_count": 4,
   "metadata": {
    "collapsed": false
   },
   "outputs": [
    {
     "data": {
      "image/png": "[encoded data removed]",
      "text/plain": [
       "<matplotlib.figure.Figure at 0x10cc708d0>"
      ]
     },
     "metadata": {},
     "output_type": "display_data"
    }
   ],
   "source": [
    "# Import matplotlib (plotting) and numpy (numerical arrays).\n",
    "# This enables their use in the Notebook.\n",
    "#%matplotlib inline\n",
    "#import matplotlib.pyplot as plt\n",
    "#import numpy as np\n",
    "\n",
    "# Import IPython's interact function which is used below to\n",
    "# build the interactive widgets\n",
    "from IPython.html.widgets import interact\n",
    "\n",
    "def plot_sine(refresh=True): #, frequency=4.0, grid_points=12):\n",
    "    \n",
    "    fig1 = plt.figure()\n",
    "    fig1.suptitle('GBP/USD price')\n",
    "    fig1.autofmt_xdate()\n",
    "\n",
    "    ax1 = fig1.add_subplot(1,1,1)\n",
    "\n",
    "    connpg = get_conn()\n",
    "    curpg = connpg.cursor()\n",
    "    curpg.execute('SELECT date as \"[timestamp]\", price FROM vPrice;')\n",
    "    results =  curpg.fetchall()\n",
    "    #print results[0]\n",
    "    \n",
    "    connpg.commit()\n",
    "    curpg.close()\n",
    "    connpg.close()\n",
    "    \n",
    "    data = []\n",
    "    x = []\n",
    "    y = []\n",
    "\n",
    "    for row in results:\n",
    "        \n",
    "        x.append(row[0])\n",
    "        y.append(row[1])\n",
    "\n",
    "    ax1.clear()\n",
    "    ax1.plot(x,y)\n",
    "    ax1.legend(loc='upper left')\n",
    "    \n",
    "    \n",
    "\n",
    "interact(plot_sine, refresh=True)#, frequency=(1.0, 22.0, 0.5), grid_points=(10, 16, 1), );\n",
    "\n",
    "\n"
   ]
  },
  {
   "cell_type": "code",
   "execution_count": null,
   "metadata": {
    "collapsed": false
   },
   "outputs": [],
   "source": [
    "\n"
   ]
  },
  {
   "cell_type": "code",
   "execution_count": null,
   "metadata": {
    "collapsed": true
   },
   "outputs": [],
   "source": []
  },
  {
   "cell_type": "code",
   "execution_count": null,
   "metadata": {
    "collapsed": true
   },
   "outputs": [],
   "source": []
  }
 ],
 "metadata": {
  "kernelspec": {
   "display_name": "Python 2",
   "language": "python",
   "name": "python2"
  },
  "language_info": {
   "codemirror_mode": {
    "name": "ipython",
    "version": 2
   },
   "file_extension": ".py",
   "mimetype": "text/x-python",
   "name": "python",
   "nbconvert_exporter": "python",
   "pygments_lexer": "ipython2",
   "version": "2.7.6"
  }
 },
 "nbformat": 4,
 "nbformat_minor": 0
}
