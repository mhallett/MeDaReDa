{
 "cells": [
  {
   "cell_type": "markdown",
   "metadata": {},
   "source": [
    "# 02 Get Input data"
   ]
  },
  {
   "cell_type": "markdown",
   "metadata": {},
   "source": [
    "get 10 values from yahoo, write to 'in' table"
   ]
  },
  {
   "cell_type": "code",
   "execution_count": 1,
   "metadata": {
    "collapsed": false
   },
   "outputs": [],
   "source": [
    "import time\n",
    "import datetime\n",
    "from yahoo_finance import Currency"
   ]
  },
  {
   "cell_type": "code",
   "execution_count": 2,
   "metadata": {
    "collapsed": true
   },
   "outputs": [],
   "source": [
    "import medareda_lib\n",
    "\n",
    "def get_conn():\n",
    "    return medareda_lib.get_conn()"
   ]
  },
  {
   "cell_type": "code",
   "execution_count": 3,
   "metadata": {
    "collapsed": false
   },
   "outputs": [],
   "source": [
    "import time\n",
    "def get_price():\n",
    "    print '-----------'\n",
    "    #print i\n",
    "    #Currency('GBPUSD').refresh()\n",
    "    bid = Currency('GBPUSD').get_bid()\n",
    "    rate = Currency('GBPUSD').get_rate()\n",
    "    ask = Currency('GBPUSD').get_ask()\n",
    "    \n",
    "    #bid = ask = rate = 1.57\n",
    "#\n",
    "    trade_datetime  = Currency('GBPUSD').get_trade_datetime ()\n",
    "\n",
    "\n",
    "    print bid\n",
    "    #print rate\n",
    "    #print ask\n",
    "    #print trade_datetime\n",
    "    in_db = 'in.db'\n",
    "    conn = get_conn()\n",
    "    c  = conn.cursor()\n",
    "    now = datetime.datetime.now()\n",
    "    iPrice = [  (now, 'wait' , trade_datetime, 'GBPUSD', bid, rate, ask ),]\n",
    "    \n",
    "    \n",
    "    #sql = \"INSERT INTO iPrice (ipriceid,iDate,status,date,symbol,bid,rate,ask) VALUES ( %s,'%s','%s','%s','%s',%s,%s,%s) \" %('DEFAULT','2015-01-01','wait','2015-01-01','GBPUSD',1,2,3)\n",
    "    sql = \"INSERT INTO iPrice (iDate,status,date,symbol,bid,rate,ask) VALUES ('%s','%s','%s','%s',%s,%s,%s) \" %( now ,'wait',trade_datetime,'GBPUSD',bid,rate,ask)\n",
    "\n",
    "   \n",
    "    #print iPrice\n",
    "    print sql\n",
    "    c.execute(sql)\n",
    "\n",
    "    \n",
    "    # no audit or market or type\n",
    "    conn.commit()\n",
    "    conn.close()\n",
    "    #time.sleep(6)"
   ]
  },
  {
   "cell_type": "code",
   "execution_count": 4,
   "metadata": {
    "collapsed": false
   },
   "outputs": [
    {
     "name": "stdout",
     "output_type": "stream",
     "text": [
      "-----------\n",
      "1.5594\n",
      "INSERT INTO iPrice (iDate,status,date,symbol,bid,rate,ask) VALUES ('2015-07-17 23:39:40.347763','wait','2015-07-18 03:39:00 UTC+0000','GBPUSD',1.5594,1.5603,1.5612) \n"
     ]
    }
   ],
   "source": [
    "get_price()"
   ]
  },
  {
   "cell_type": "code",
   "execution_count": 5,
   "metadata": {
    "collapsed": false
   },
   "outputs": [
    {
     "name": "stdout",
     "output_type": "stream",
     "text": [
      "-----------\n",
      "1.5594\n",
      "INSERT INTO iPrice (iDate,status,date,symbol,bid,rate,ask) VALUES ('2015-07-17 23:39:42.929159','wait','2015-07-18 03:39:00 UTC+0000','GBPUSD',1.5594,1.5603,1.5612) \n",
      "-----------\n",
      "1.5594\n",
      "INSERT INTO iPrice (iDate,status,date,symbol,bid,rate,ask) VALUES ('2015-07-17 23:39:45.606739','wait','2015-07-18 03:39:00 UTC+0000','GBPUSD',1.5594,1.5603,1.5612) \n",
      "-----------\n",
      "1.5594\n",
      "INSERT INTO iPrice (iDate,status,date,symbol,bid,rate,ask) VALUES ('2015-07-17 23:39:48.155440','wait','2015-07-18 03:39:00 UTC+0000','GBPUSD',1.5594,1.5603,1.5612) \n",
      "-----------\n",
      "1.5594\n",
      "INSERT INTO iPrice (iDate,status,date,symbol,bid,rate,ask) VALUES ('2015-07-17 23:39:50.718241','wait','2015-07-18 03:39:00 UTC+0000','GBPUSD',1.5594,1.5603,1.5612) \n",
      "-----------\n",
      "1.5594\n",
      "INSERT INTO iPrice (iDate,status,date,symbol,bid,rate,ask) VALUES ('2015-07-17 23:39:53.266280','wait','2015-07-18 03:39:00 UTC+0000','GBPUSD',1.5594,1.5603,1.5612) \n",
      "-----------\n",
      "1.5594\n",
      "INSERT INTO iPrice (iDate,status,date,symbol,bid,rate,ask) VALUES ('2015-07-17 23:39:55.820814','wait','2015-07-18 03:39:00 UTC+0000','GBPUSD',1.5594,1.5603,1.5612) \n",
      "-----------\n",
      "1.5594\n",
      "INSERT INTO iPrice (iDate,status,date,symbol,bid,rate,ask) VALUES ('2015-07-17 23:39:58.484447','wait','2015-07-18 03:39:00 UTC+0000','GBPUSD',1.5594,1.5603,1.5612) \n",
      "-----------\n",
      "1.5594\n",
      "INSERT INTO iPrice (iDate,status,date,symbol,bid,rate,ask) VALUES ('2015-07-17 23:40:02.019508','wait','2015-07-18 03:39:00 UTC+0000','GBPUSD',1.5594,1.5603,1.5612) \n",
      "-----------\n",
      "1.5594\n",
      "INSERT INTO iPrice (iDate,status,date,symbol,bid,rate,ask) VALUES ('2015-07-17 23:40:04.686990','wait','2015-07-18 03:39:00 UTC+0000','GBPUSD',1.5594,1.5603,1.5612) \n",
      "-----------\n",
      "1.5594\n",
      "INSERT INTO iPrice (iDate,status,date,symbol,bid,rate,ask) VALUES ('2015-07-17 23:40:07.266419','wait','2015-07-18 03:39:00 UTC+0000','GBPUSD',1.5594,1.5603,1.5612) \n",
      "-----------\n",
      "1.5594\n",
      "INSERT INTO iPrice (iDate,status,date,symbol,bid,rate,ask) VALUES ('2015-07-17 23:40:09.886404','wait','2015-07-18 03:39:00 UTC+0000','GBPUSD',1.5594,1.5603,1.5612) \n",
      "-----------\n",
      "1.5594\n",
      "INSERT INTO iPrice (iDate,status,date,symbol,bid,rate,ask) VALUES ('2015-07-17 23:40:12.460497','wait','2015-07-18 03:39:00 UTC+0000','GBPUSD',1.5594,1.5603,1.5612) \n",
      "-----------\n",
      "1.5594\n",
      "INSERT INTO iPrice (iDate,status,date,symbol,bid,rate,ask) VALUES ('2015-07-17 23:40:15.014981','wait','2015-07-18 03:39:00 UTC+0000','GBPUSD',1.5594,1.5603,1.5612) \n",
      "-----------\n",
      "1.5594\n",
      "INSERT INTO iPrice (iDate,status,date,symbol,bid,rate,ask) VALUES ('2015-07-17 23:40:17.568707','wait','2015-07-18 03:39:00 UTC+0000','GBPUSD',1.5594,1.5603,1.5612) \n",
      "-----------\n",
      "1.5594\n",
      "INSERT INTO iPrice (iDate,status,date,symbol,bid,rate,ask) VALUES ('2015-07-17 23:40:20.117537','wait','2015-07-18 03:39:00 UTC+0000','GBPUSD',1.5594,1.5603,1.5612) \n",
      "-----------\n",
      "1.5594\n",
      "INSERT INTO iPrice (iDate,status,date,symbol,bid,rate,ask) VALUES ('2015-07-17 23:40:22.762781','wait','2015-07-18 03:39:00 UTC+0000','GBPUSD',1.5594,1.5603,1.5612) \n",
      "-----------\n",
      "1.5594\n",
      "INSERT INTO iPrice (iDate,status,date,symbol,bid,rate,ask) VALUES ('2015-07-17 23:40:25.356871','wait','2015-07-18 03:39:00 UTC+0000','GBPUSD',1.5594,1.5603,1.5612) \n",
      "-----------\n",
      "1.5594\n",
      "INSERT INTO iPrice (iDate,status,date,symbol,bid,rate,ask) VALUES ('2015-07-17 23:40:27.930098','wait','2015-07-18 03:39:00 UTC+0000','GBPUSD',1.5594,1.5603,1.5612) \n",
      "-----------\n",
      "1.5594\n",
      "INSERT INTO iPrice (iDate,status,date,symbol,bid,rate,ask) VALUES ('2015-07-17 23:40:30.577107','wait','2015-07-18 03:39:00 UTC+0000','GBPUSD',1.5594,1.5603,1.5612) \n",
      "-----------\n",
      "1.5594\n",
      "INSERT INTO iPrice (iDate,status,date,symbol,bid,rate,ask) VALUES ('2015-07-17 23:40:34.171862','wait','2015-07-18 03:39:00 UTC+0000','GBPUSD',1.5594,1.5603,1.5612) \n"
     ]
    }
   ],
   "source": [
    "\n",
    "#while True:\n",
    "for i in range(20):    \n",
    "    time.sleep(1)\n",
    "    get_price()"
   ]
  },
  {
   "cell_type": "code",
   "execution_count": null,
   "metadata": {
    "collapsed": true
   },
   "outputs": [],
   "source": []
  },
  {
   "cell_type": "code",
   "execution_count": null,
   "metadata": {
    "collapsed": true
   },
   "outputs": [],
   "source": []
  },
  {
   "cell_type": "code",
   "execution_count": null,
   "metadata": {
    "collapsed": true
   },
   "outputs": [],
   "source": []
  }
 ],
 "metadata": {
  "kernelspec": {
   "display_name": "Python 2",
   "language": "python",
   "name": "python2"
  },
  "language_info": {
   "codemirror_mode": {
    "name": "ipython",
    "version": 2
   },
   "file_extension": ".py",
   "mimetype": "text/x-python",
   "name": "python",
   "nbconvert_exporter": "python",
   "pygments_lexer": "ipython2",
   "version": "2.7.6"
  }
 },
 "nbformat": 4,
 "nbformat_minor": 0
}
