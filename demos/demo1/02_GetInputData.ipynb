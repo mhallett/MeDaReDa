{
 "cells": [
  {
   "cell_type": "markdown",
   "metadata": {},
   "source": [
    "# 02 Get Input data"
   ]
  },
  {
   "cell_type": "markdown",
   "metadata": {},
   "source": [
    "get 10 values from yahoo, write to 'in' table"
   ]
  },
  {
   "cell_type": "code",
   "execution_count": 6,
   "metadata": {
    "collapsed": false
   },
   "outputs": [],
   "source": [
    "import time\n",
    "import datetime\n",
    "from yahoo_finance import Currency"
   ]
  },
  {
   "cell_type": "code",
   "execution_count": 7,
   "metadata": {
    "collapsed": false
   },
   "outputs": [],
   "source": [
    "import medareda_lib\n",
    "\n",
    "def get_conn():\n",
    "    return medareda_lib.get_conn()\n"
   ]
  },
  {
   "cell_type": "code",
   "execution_count": 8,
   "metadata": {
    "collapsed": false
   },
   "outputs": [],
   "source": [
    "import time\n",
    "def get_price(ticker):\n",
    "    print '-----------'\n",
    "    #print i\n",
    "    #Currency('GBPUSD').refresh()\n",
    "    bid = Currency(ticker).get_bid()\n",
    "    rate = Currency(ticker).get_rate()\n",
    "    ask = Currency(ticker).get_ask()\n",
    "    \n",
    "    #bid = ask = rate = 1.57\n",
    "#\n",
    "    trade_datetime  = Currency(ticker).get_trade_datetime ()\n",
    "\n",
    "\n",
    "    print ticker, bid\n",
    "    #print rate\n",
    "    #print ask\n",
    "    #print trade_datetime\n",
    "    in_db = 'in.db'\n",
    "    conn = get_conn()\n",
    "    c  = conn.cursor()\n",
    "    now = datetime.datetime.now()\n",
    "    iPrice = [  (now, 'wait' , trade_datetime, ticker, bid, rate, ask ),]\n",
    "    \n",
    "    \n",
    "    #sql = \"INSERT INTO iPrice (ipriceid,iDate,status,date,symbol,bid,rate,ask) VALUES ( %s,'%s','%s','%s','%s',%s,%s,%s) \" %('DEFAULT','2015-01-01','wait','2015-01-01','GBPUSD',1,2,3)\n",
    "    sql = \"INSERT INTO iPrice (iDate,status,date,symbol,bid,rate,ask) VALUES ('%s','%s','%s','%s',%s,%s,%s) \" %( now ,'wait',trade_datetime,ticker,bid,rate,ask)\n",
    "\n",
    "   \n",
    "    #print iPrice\n",
    "    print sql\n",
    "    c.execute(sql)\n",
    "\n",
    "    \n",
    "    # no audit or market or type\n",
    "    conn.commit()\n",
    "    conn.close()\n",
    "    return bid\n",
    "    #time.sleep(6)"
   ]
  },
  {
   "cell_type": "code",
   "execution_count": 12,
   "metadata": {
    "collapsed": false
   },
   "outputs": [
    {
     "name": "stdout",
     "output_type": "stream",
     "text": [
      "-----------\n",
      "GBPUSD 1.5233\n",
      "INSERT INTO iPrice (iDate,status,date,symbol,bid,rate,ask) VALUES ('2015-10-06 21:14:55.320780','wait','2015-10-07 01:14:00 UTC+0000','GBPUSD',1.5233,1.5236,1.5238) \n",
      "-----------\n",
      "EURGBP 0.7398\n",
      "INSERT INTO iPrice (iDate,status,date,symbol,bid,rate,ask) VALUES ('2015-10-06 21:14:56.912472','wait','2015-10-07 01:14:00 UTC+0000','EURGBP',0.7398,0.7400,0.7402) \n",
      "-----------\n",
      "USDEUR 0.8870\n",
      "INSERT INTO iPrice (iDate,status,date,symbol,bid,rate,ask) VALUES ('2015-10-06 21:14:58.502538','wait','2015-10-07 01:14:00 UTC+0000','USDEUR',0.8870,0.8870,0.8872) \n",
      "1.5233 0.7398 0.8870 0.99959342058\n"
     ]
    }
   ],
   "source": [
    "# get some input data\n",
    "\n",
    "gbp_usd = get_price('GBPUSD')\n",
    "eur_gbp = get_price('EURGBP')\n",
    "\n",
    "usd_eur = get_price('USDEUR')\n",
    "\n",
    "if gbp_usd:\n",
    "    print gbp_usd, eur_gbp, usd_eur , float(gbp_usd) * float(eur_gbp) * float(usd_eur)\n",
    "else:\n",
    "    print gbp_usd\n"
   ]
  },
  {
   "cell_type": "code",
   "execution_count": 11,
   "metadata": {
    "collapsed": false
   },
   "outputs": [
    {
     "name": "stdout",
     "output_type": "stream",
     "text": [
      "-----------\n",
      "GBPUSD 1.5231\n",
      "INSERT INTO iPrice (iDate,status,date,symbol,bid,rate,ask) VALUES ('2015-10-06 21:13:14.294872','wait','2015-10-07 01:13:00 UTC+0000','GBPUSD',1.5231,1.5234,1.5235) \n",
      "-----------\n",
      "EURGBP 0.7400\n",
      "INSERT INTO iPrice (iDate,status,date,symbol,bid,rate,ask) VALUES ('2015-10-06 21:13:15.985865','wait','2015-10-07 01:13:00 UTC+0000','EURGBP',0.7400,0.7402,0.7404) \n",
      "-----------\n",
      "USDEUR 0.8870\n",
      "INSERT INTO iPrice (iDate,status,date,symbol,bid,rate,ask) VALUES ('2015-10-06 21:13:17.555404','wait','2015-10-07 01:13:00 UTC+0000','USDEUR',0.8870,0.8870,0.8871) \n",
      "-----------\n",
      "GBPUSD 1.5231\n",
      "INSERT INTO iPrice (iDate,status,date,symbol,bid,rate,ask) VALUES ('2015-10-06 21:13:19.113684','wait','2015-10-07 01:13:00 UTC+0000','GBPUSD',1.5231,1.5234,1.5236) \n",
      "-----------\n",
      "EURGBP 0.7400\n",
      "INSERT INTO iPrice (iDate,status,date,symbol,bid,rate,ask) VALUES ('2015-10-06 21:13:20.896762','wait','2015-10-07 01:13:00 UTC+0000','EURGBP',0.7400,0.7402,0.7404) \n",
      "-----------\n",
      "USDEUR 0.8869\n",
      "INSERT INTO iPrice (iDate,status,date,symbol,bid,rate,ask) VALUES ('2015-10-06 21:13:22.983794','wait','2015-10-07 01:13:00 UTC+0000','USDEUR',0.8869,0.8869,0.8869) \n",
      "-----------\n",
      "GBPUSD 1.5233\n",
      "INSERT INTO iPrice (iDate,status,date,symbol,bid,rate,ask) VALUES ('2015-10-06 21:13:24.539417','wait','2015-10-07 01:13:00 UTC+0000','GBPUSD',1.5233,1.5236,1.5236) \n",
      "-----------\n",
      "EURGBP 0.7401\n",
      "INSERT INTO iPrice (iDate,status,date,symbol,bid,rate,ask) VALUES ('2015-10-06 21:13:27.346529','wait','2015-10-07 01:13:00 UTC+0000','EURGBP',0.7401,0.7401,0.7401) \n",
      "-----------\n",
      "USDEUR 0.8869\n",
      "INSERT INTO iPrice (iDate,status,date,symbol,bid,rate,ask) VALUES ('2015-10-06 21:13:28.920365','wait','2015-10-07 01:13:00 UTC+0000','USDEUR',0.8869,0.8869,0.8869) \n",
      "-----------\n",
      "GBPUSD 1.5232\n",
      "INSERT INTO iPrice (iDate,status,date,symbol,bid,rate,ask) VALUES ('2015-10-06 21:13:30.541604','wait','2015-10-07 01:13:00 UTC+0000','GBPUSD',1.5232,1.5234,1.5236) \n",
      "-----------\n",
      "EURGBP 0.7401\n",
      "INSERT INTO iPrice (iDate,status,date,symbol,bid,rate,ask) VALUES ('2015-10-06 21:13:32.124211','wait','2015-10-07 01:13:00 UTC+0000','EURGBP',0.7401,0.7401,0.7402) \n",
      "-----------\n",
      "USDEUR 0.8869\n",
      "INSERT INTO iPrice (iDate,status,date,symbol,bid,rate,ask) VALUES ('2015-10-06 21:13:33.706816','wait','2015-10-07 01:13:00 UTC+0000','USDEUR',0.8869,0.8869,0.8870) \n",
      "-----------\n",
      "GBPUSD 1.5232\n",
      "INSERT INTO iPrice (iDate,status,date,symbol,bid,rate,ask) VALUES ('2015-10-06 21:13:35.254996','wait','2015-10-07 01:13:00 UTC+0000','GBPUSD',1.5232,1.5236,1.5238) \n",
      "-----------\n",
      "EURGBP 0.7401\n",
      "INSERT INTO iPrice (iDate,status,date,symbol,bid,rate,ask) VALUES ('2015-10-06 21:13:37.023512','wait','2015-10-07 01:13:00 UTC+0000','EURGBP',0.7401,0.7401,0.7401) \n",
      "-----------\n",
      "USDEUR 0.8869\n",
      "INSERT INTO iPrice (iDate,status,date,symbol,bid,rate,ask) VALUES ('2015-10-06 21:13:38.611008','wait','2015-10-07 01:13:00 UTC+0000','USDEUR',0.8869,0.8869,0.8870) \n",
      "-----------\n",
      "GBPUSD 1.5233\n",
      "INSERT INTO iPrice (iDate,status,date,symbol,bid,rate,ask) VALUES ('2015-10-06 21:13:40.192554','wait','2015-10-07 01:13:00 UTC+0000','GBPUSD',1.5233,1.5236,1.5238) \n",
      "-----------\n",
      "EURGBP 0.7399\n",
      "INSERT INTO iPrice (iDate,status,date,symbol,bid,rate,ask) VALUES ('2015-10-06 21:13:41.862593','wait','2015-10-07 01:13:00 UTC+0000','EURGBP',0.7399,0.7401,0.7404) \n",
      "-----------\n",
      "USDEUR 0.8868\n",
      "INSERT INTO iPrice (iDate,status,date,symbol,bid,rate,ask) VALUES ('2015-10-06 21:13:43.549197','wait','2015-10-07 01:13:00 UTC+0000','USDEUR',0.8868,0.8868,0.8870) \n",
      "-----------\n",
      "GBPUSD 1.5233\n",
      "INSERT INTO iPrice (iDate,status,date,symbol,bid,rate,ask) VALUES ('2015-10-06 21:13:45.164067','wait','2015-10-07 01:13:00 UTC+0000','GBPUSD',1.5233,1.5234,1.5235) \n",
      "-----------\n",
      "EURGBP 0.7400\n",
      "INSERT INTO iPrice (iDate,status,date,symbol,bid,rate,ask) VALUES ('2015-10-06 21:13:46.764100','wait','2015-10-07 01:13:00 UTC+0000','EURGBP',0.7400,0.7402,0.7404) \n",
      "-----------\n",
      "USDEUR 0.8868\n",
      "INSERT INTO iPrice (iDate,status,date,symbol,bid,rate,ask) VALUES ('2015-10-06 21:13:48.333398','wait','2015-10-07 01:13:00 UTC+0000','USDEUR',0.8868,0.8868,0.8870) \n",
      "-----------\n",
      "GBPUSD 1.5232\n",
      "INSERT INTO iPrice (iDate,status,date,symbol,bid,rate,ask) VALUES ('2015-10-06 21:13:49.829094','wait','2015-10-07 01:13:00 UTC+0000','GBPUSD',1.5232,1.5234,1.5234) \n",
      "-----------\n",
      "EURGBP 0.7401\n",
      "INSERT INTO iPrice (iDate,status,date,symbol,bid,rate,ask) VALUES ('2015-10-06 21:13:51.406893','wait','2015-10-07 01:13:00 UTC+0000','EURGBP',0.7401,0.7401,0.7401) \n",
      "-----------\n",
      "USDEUR 0.8869\n",
      "INSERT INTO iPrice (iDate,status,date,symbol,bid,rate,ask) VALUES ('2015-10-06 21:13:52.983852','wait','2015-10-07 01:13:00 UTC+0000','USDEUR',0.8869,0.8869,0.8870) \n",
      "-----------\n",
      "GBPUSD 1.5231\n",
      "INSERT INTO iPrice (iDate,status,date,symbol,bid,rate,ask) VALUES ('2015-10-06 21:13:54.505724','wait','2015-10-07 01:13:00 UTC+0000','GBPUSD',1.5231,1.5234,1.5236) \n",
      "-----------\n",
      "EURGBP 0.7400\n",
      "INSERT INTO iPrice (iDate,status,date,symbol,bid,rate,ask) VALUES ('2015-10-06 21:13:56.157964','wait','2015-10-07 01:13:00 UTC+0000','EURGBP',0.7400,0.7401,0.7403) \n",
      "-----------\n",
      "USDEUR 0.8869\n",
      "INSERT INTO iPrice (iDate,status,date,symbol,bid,rate,ask) VALUES ('2015-10-06 21:13:57.785476','wait','2015-10-07 01:13:00 UTC+0000','USDEUR',0.8869,0.8869,0.8870) \n",
      "-----------\n",
      "GBPUSD 1.5231\n",
      "INSERT INTO iPrice (iDate,status,date,symbol,bid,rate,ask) VALUES ('2015-10-06 21:13:59.367699','wait','2015-10-07 01:13:00 UTC+0000','GBPUSD',1.5231,1.5236,1.5238) \n",
      "-----------\n",
      "EURGBP 0.7400\n",
      "INSERT INTO iPrice (iDate,status,date,symbol,bid,rate,ask) VALUES ('2015-10-06 21:14:00.939159','wait','2015-10-07 01:14:00 UTC+0000','EURGBP',0.7400,0.7401,0.7403) \n",
      "-----------\n",
      "USDEUR 0.8870\n",
      "INSERT INTO iPrice (iDate,status,date,symbol,bid,rate,ask) VALUES ('2015-10-06 21:14:02.534900','wait','2015-10-07 01:14:00 UTC+0000','USDEUR',0.8870,0.8870,0.8872) \n",
      "-----------\n",
      "GBPUSD 1.5232\n",
      "INSERT INTO iPrice (iDate,status,date,symbol,bid,rate,ask) VALUES ('2015-10-06 21:14:04.221740','wait','2015-10-07 01:14:00 UTC+0000','GBPUSD',1.5232,1.5234,1.5236) \n",
      "-----------\n",
      "EURGBP 0.7400\n",
      "INSERT INTO iPrice (iDate,status,date,symbol,bid,rate,ask) VALUES ('2015-10-06 21:14:05.807591','wait','2015-10-07 01:14:00 UTC+0000','EURGBP',0.7400,0.7401,0.7402) \n",
      "-----------\n",
      "USDEUR 0.8870\n",
      "INSERT INTO iPrice (iDate,status,date,symbol,bid,rate,ask) VALUES ('2015-10-06 21:14:07.366984','wait','2015-10-07 01:14:00 UTC+0000','USDEUR',0.8870,0.8870,0.8872) \n",
      "-----------\n",
      "GBPUSD 1.5232\n",
      "INSERT INTO iPrice (iDate,status,date,symbol,bid,rate,ask) VALUES ('2015-10-06 21:14:08.858507','wait','2015-10-07 01:14:00 UTC+0000','GBPUSD',1.5232,1.5234,1.5236) \n",
      "-----------\n",
      "EURGBP 0.7400\n",
      "INSERT INTO iPrice (iDate,status,date,symbol,bid,rate,ask) VALUES ('2015-10-06 21:14:10.446574','wait','2015-10-07 01:14:00 UTC+0000','EURGBP',0.7400,0.7401,0.7403) \n",
      "-----------\n",
      "USDEUR 0.8870\n",
      "INSERT INTO iPrice (iDate,status,date,symbol,bid,rate,ask) VALUES ('2015-10-06 21:14:12.032008','wait','2015-10-07 01:14:00 UTC+0000','USDEUR',0.8870,0.8870,0.8871) \n",
      "-----------\n",
      "GBPUSD 1.5233\n",
      "INSERT INTO iPrice (iDate,status,date,symbol,bid,rate,ask) VALUES ('2015-10-06 21:14:13.593933','wait','2015-10-07 01:14:00 UTC+0000','GBPUSD',1.5233,1.5235,1.5237) \n",
      "-----------\n",
      "EURGBP 0.7399\n",
      "INSERT INTO iPrice (iDate,status,date,symbol,bid,rate,ask) VALUES ('2015-10-06 21:14:15.220458','wait','2015-10-07 01:14:00 UTC+0000','EURGBP',0.7399,0.7400,0.7402) \n",
      "-----------\n",
      "USDEUR 0.8870\n",
      "INSERT INTO iPrice (iDate,status,date,symbol,bid,rate,ask) VALUES ('2015-10-06 21:14:16.782712','wait','2015-10-07 01:14:00 UTC+0000','USDEUR',0.8870,0.8870,0.8871) \n",
      "-----------\n",
      "GBPUSD 1.5233\n",
      "INSERT INTO iPrice (iDate,status,date,symbol,bid,rate,ask) VALUES ('2015-10-06 21:14:18.307394','wait','2015-10-07 01:14:00 UTC+0000','GBPUSD',1.5233,1.5236,1.5238) \n",
      "-----------\n",
      "EURGBP 0.7399\n",
      "INSERT INTO iPrice (iDate,status,date,symbol,bid,rate,ask) VALUES ('2015-10-06 21:14:19.846611','wait','2015-10-07 01:14:00 UTC+0000','EURGBP',0.7399,0.7400,0.7402) \n",
      "-----------\n",
      "USDEUR 0.8870\n",
      "INSERT INTO iPrice (iDate,status,date,symbol,bid,rate,ask) VALUES ('2015-10-06 21:14:22.704754','wait','2015-10-07 01:14:00 UTC+0000','USDEUR',0.8870,0.8869,0.8872) \n",
      "-----------\n",
      "GBPUSD 1.5232\n",
      "INSERT INTO iPrice (iDate,status,date,symbol,bid,rate,ask) VALUES ('2015-10-06 21:14:24.309778','wait','2015-10-07 01:14:00 UTC+0000','GBPUSD',1.5232,1.5234,1.5236) \n",
      "-----------\n",
      "EURGBP 0.7399\n",
      "INSERT INTO iPrice (iDate,status,date,symbol,bid,rate,ask) VALUES ('2015-10-06 21:14:25.889235','wait','2015-10-07 01:14:00 UTC+0000','EURGBP',0.7399,0.7401,0.7403) \n",
      "-----------\n",
      "USDEUR 0.8869\n",
      "INSERT INTO iPrice (iDate,status,date,symbol,bid,rate,ask) VALUES ('2015-10-06 21:14:27.549528','wait','2015-10-07 01:14:00 UTC+0000','USDEUR',0.8869,0.8869,0.8872) \n",
      "-----------\n",
      "GBPUSD 1.5233\n",
      "INSERT INTO iPrice (iDate,status,date,symbol,bid,rate,ask) VALUES ('2015-10-06 21:14:29.103360','wait','2015-10-07 01:14:00 UTC+0000','GBPUSD',1.5233,1.5235,1.5236) \n",
      "-----------\n",
      "EURGBP 0.7400\n",
      "INSERT INTO iPrice (iDate,status,date,symbol,bid,rate,ask) VALUES ('2015-10-06 21:14:30.715418','wait','2015-10-07 01:14:00 UTC+0000','EURGBP',0.7400,0.7400,0.7402) \n",
      "-----------\n",
      "USDEUR 0.8868\n",
      "INSERT INTO iPrice (iDate,status,date,symbol,bid,rate,ask) VALUES ('2015-10-06 21:14:32.353914','wait','2015-10-07 01:14:00 UTC+0000','USDEUR',0.8868,0.8868,0.8870) \n",
      "-----------\n",
      "GBPUSD 1.5234\n",
      "INSERT INTO iPrice (iDate,status,date,symbol,bid,rate,ask) VALUES ('2015-10-06 21:14:33.918242','wait','2015-10-07 01:14:00 UTC+0000','GBPUSD',1.5234,1.5236,1.5238) \n",
      "-----------\n",
      "EURGBP 0.7399\n",
      "INSERT INTO iPrice (iDate,status,date,symbol,bid,rate,ask) VALUES ('2015-10-06 21:14:35.477785','wait','2015-10-07 01:14:00 UTC+0000','EURGBP',0.7399,0.7401,0.7402) \n",
      "-----------\n",
      "USDEUR 0.8868\n",
      "INSERT INTO iPrice (iDate,status,date,symbol,bid,rate,ask) VALUES ('2015-10-06 21:14:37.717972','wait','2015-10-07 01:14:00 UTC+0000','USDEUR',0.8868,0.8868,0.8870) \n",
      "-----------\n",
      "GBPUSD 1.5235\n",
      "INSERT INTO iPrice (iDate,status,date,symbol,bid,rate,ask) VALUES ('2015-10-06 21:14:39.410730','wait','2015-10-07 01:14:00 UTC+0000','GBPUSD',1.5235,1.5235,1.5236) \n",
      "-----------\n",
      "EURGBP 0.7399\n",
      "INSERT INTO iPrice (iDate,status,date,symbol,bid,rate,ask) VALUES ('2015-10-06 21:14:40.933051','wait','2015-10-07 01:14:00 UTC+0000','EURGBP',0.7399,0.7401,0.7401) \n",
      "-----------\n",
      "USDEUR 0.8869\n",
      "INSERT INTO iPrice (iDate,status,date,symbol,bid,rate,ask) VALUES ('2015-10-06 21:14:43.144967','wait','2015-10-07 01:14:00 UTC+0000','USDEUR',0.8869,0.8869,0.8870) \n",
      "-----------\n",
      "GBPUSD 1.5233\n",
      "INSERT INTO iPrice (iDate,status,date,symbol,bid,rate,ask) VALUES ('2015-10-06 21:14:45.331050','wait','2015-10-07 01:14:00 UTC+0000','GBPUSD',1.5233,1.5236,1.5238) \n",
      "-----------\n",
      "EURGBP 0.7398\n",
      "INSERT INTO iPrice (iDate,status,date,symbol,bid,rate,ask) VALUES ('2015-10-06 21:14:47.296442','wait','2015-10-07 01:14:00 UTC+0000','EURGBP',0.7398,0.7400,0.7402) \n",
      "-----------\n",
      "USDEUR 0.8869\n",
      "INSERT INTO iPrice (iDate,status,date,symbol,bid,rate,ask) VALUES ('2015-10-06 21:14:48.984836','wait','2015-10-07 01:14:00 UTC+0000','USDEUR',0.8869,0.8869,0.8870) \n",
      "-----------\n",
      "GBPUSD 1.5235\n",
      "INSERT INTO iPrice (iDate,status,date,symbol,bid,rate,ask) VALUES ('2015-10-06 21:14:50.604747','wait','2015-10-07 01:14:00 UTC+0000','GBPUSD',1.5235,1.5235,1.5236) \n",
      "-----------\n",
      "EURGBP 0.7399\n",
      "INSERT INTO iPrice (iDate,status,date,symbol,bid,rate,ask) VALUES ('2015-10-06 21:14:52.191036','wait','2015-10-07 01:14:00 UTC+0000','EURGBP',0.7399,0.7401,0.7402) \n",
      "-----------\n",
      "USDEUR 0.8870\n",
      "INSERT INTO iPrice (iDate,status,date,symbol,bid,rate,ask) VALUES ('2015-10-06 21:14:53.794500','wait','2015-10-07 01:14:00 UTC+0000','USDEUR',0.8870,0.8870,0.8872) \n"
     ]
    }
   ],
   "source": [
    "\n",
    "#while True:\n",
    "for i in range(20):    \n",
    "    #time.sleep(0.5)\n",
    "    for ticker in ('GBPUSD','EURGBP','USDEUR'):\n",
    "        get_price(ticker)"
   ]
  },
  {
   "cell_type": "code",
   "execution_count": null,
   "metadata": {
    "collapsed": true
   },
   "outputs": [],
   "source": []
  },
  {
   "cell_type": "code",
   "execution_count": null,
   "metadata": {
    "collapsed": true
   },
   "outputs": [],
   "source": []
  },
  {
   "cell_type": "code",
   "execution_count": null,
   "metadata": {
    "collapsed": true
   },
   "outputs": [],
   "source": []
  },
  {
   "cell_type": "code",
   "execution_count": null,
   "metadata": {
    "collapsed": true
   },
   "outputs": [],
   "source": []
  },
  {
   "cell_type": "code",
   "execution_count": null,
   "metadata": {
    "collapsed": true
   },
   "outputs": [],
   "source": []
  }
 ],
 "metadata": {
  "kernelspec": {
   "display_name": "Python 2",
   "language": "python",
   "name": "python2"
  },
  "language_info": {
   "codemirror_mode": {
    "name": "ipython",
    "version": 2
   },
   "file_extension": ".py",
   "mimetype": "text/x-python",
   "name": "python",
   "nbconvert_exporter": "python",
   "pygments_lexer": "ipython2",
   "version": "2.7.9"
  }
 },
 "nbformat": 4,
 "nbformat_minor": 0
}
