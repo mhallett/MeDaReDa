{
 "cells": [
  {
   "cell_type": "markdown",
   "metadata": {},
   "source": [
    "# 02 Get Input data"
   ]
  },
  {
   "cell_type": "markdown",
   "metadata": {},
   "source": [
    "get 20 values from yahoo, write to 'in' table"
   ]
  },
  {
   "cell_type": "code",
   "execution_count": 1,
   "metadata": {
    "collapsed": false
   },
   "outputs": [],
   "source": [
    "import time\n",
    "import datetime\n",
    "from yahoo_finance import Currency"
   ]
  },
  {
   "cell_type": "code",
   "execution_count": 5,
   "metadata": {
    "collapsed": false
   },
   "outputs": [],
   "source": [
    "import medareda_lib\n",
    "\n",
    "def get_conn():\n",
    "    return medareda_lib.get_conn()\n"
   ]
  },
  {
   "cell_type": "code",
   "execution_count": 9,
   "metadata": {
    "collapsed": false
   },
   "outputs": [],
   "source": [
    "import time\n",
    "def get_price(ticker):\n",
    "    #print '-----------'\n",
    "    #Currency('GBPUSD').refresh()\n",
    "    bid = Currency(ticker).get_bid()\n",
    "    rate = Currency(ticker).get_rate()\n",
    "    ask = Currency(ticker).get_ask()\n",
    "    \n",
    "    trade_datetime  = Currency(ticker).get_trade_datetime ()\n",
    "\n",
    "    print ticker, bid\n",
    "\n",
    "    conn = get_conn()\n",
    "    c  = conn.cursor()\n",
    "    now = datetime.datetime.now()\n",
    "        \n",
    "    sql = \"INSERT INTO iPrice (iDate,status,date,symbol,bid,rate,ask) VALUES ('%s','%s','%s','%s',%s,%s,%s) \" %( now ,'wait',trade_datetime,ticker,bid,rate,ask)\n",
    "    #print sql\n",
    "    c.execute(sql)\n",
    "    conn.commit()\n",
    "    conn.close()\n",
    "    return bid\n"
   ]
  },
  {
   "cell_type": "code",
   "execution_count": 10,
   "metadata": {
    "collapsed": false
   },
   "outputs": [
    {
     "name": "stdout",
     "output_type": "stream",
     "text": [
      "GBPUSD 1.5343\n",
      "EURGBP 0.7347\n",
      "USDEUR 0.8868\n",
      "1.5343 0.7347 0.8868 0.999645486228\n"
     ]
    }
   ],
   "source": [
    "# get some input data\n",
    "\n",
    "gbp_usd = get_price('GBPUSD')\n",
    "eur_gbp = get_price('EURGBP')\n",
    "usd_eur = get_price('USDEUR')\n",
    "\n",
    "if gbp_usd:\n",
    "    print gbp_usd, eur_gbp, usd_eur , float(gbp_usd) * float(eur_gbp) * float(usd_eur)\n",
    "else:\n",
    "    print gbp_usd\n"
   ]
  },
  {
   "cell_type": "code",
   "execution_count": 11,
   "metadata": {
    "collapsed": false
   },
   "outputs": [
    {
     "name": "stdout",
     "output_type": "stream",
     "text": [
      "GBPUSD 1.5341\n",
      "EURGBP 0.7347\n",
      "USDEUR 0.8868\n",
      "GBPUSD 1.5343\n",
      "EURGBP 0.7347\n",
      "USDEUR 0.8868\n"
     ]
    }
   ],
   "source": [
    "\n",
    "#while True:\n",
    "for i in range(2):    \n",
    "    for ticker in ('GBPUSD','EURGBP','USDEUR'):\n",
    "        get_price(ticker)"
   ]
  },
  {
   "cell_type": "code",
   "execution_count": null,
   "metadata": {
    "collapsed": true
   },
   "outputs": [],
   "source": []
  },
  {
   "cell_type": "code",
   "execution_count": null,
   "metadata": {
    "collapsed": true
   },
   "outputs": [],
   "source": []
  },
  {
   "cell_type": "code",
   "execution_count": null,
   "metadata": {
    "collapsed": true
   },
   "outputs": [],
   "source": []
  },
  {
   "cell_type": "code",
   "execution_count": null,
   "metadata": {
    "collapsed": true
   },
   "outputs": [],
   "source": []
  },
  {
   "cell_type": "code",
   "execution_count": null,
   "metadata": {
    "collapsed": true
   },
   "outputs": [],
   "source": []
  }
 ],
 "metadata": {
  "kernelspec": {
   "display_name": "Python 2",
   "language": "python",
   "name": "python2"
  },
  "language_info": {
   "codemirror_mode": {
    "name": "ipython",
    "version": 2
   },
   "file_extension": ".py",
   "mimetype": "text/x-python",
   "name": "python",
   "nbconvert_exporter": "python",
   "pygments_lexer": "ipython2",
   "version": "2.7.10"
  }
 },
 "nbformat": 4,
 "nbformat_minor": 0
}
