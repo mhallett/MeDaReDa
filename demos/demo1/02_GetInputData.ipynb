{
 "cells": [
  {
   "cell_type": "markdown",
   "metadata": {},
   "source": [
    "#Get Input data"
   ]
  },
  {
   "cell_type": "code",
   "execution_count": 3,
   "metadata": {
    "collapsed": false
   },
   "outputs": [],
   "source": [
    "import sqlite3\n",
    "import datetime\n",
    "from yahoo_finance import Currency"
   ]
  },
  {
   "cell_type": "code",
   "execution_count": 4,
   "metadata": {
    "collapsed": false
   },
   "outputs": [
    {
     "name": "stdout",
     "output_type": "stream",
     "text": [
      "-----------\n",
      "1.5534\n",
      "2015-05-21 01:52:00 UTC+0000\n",
      "-----------\n",
      "1.5534\n",
      "2015-05-21 01:52:00 UTC+0000\n",
      "-----------\n",
      "1.5535\n",
      "2015-05-21 01:53:00 UTC+0000\n",
      "-----------\n",
      "1.5534\n",
      "2015-05-21 01:53:00 UTC+0000\n",
      "-----------\n",
      "1.5535\n",
      "2015-05-21 01:53:00 UTC+0000\n",
      "-----------\n",
      "1.5533\n",
      "2015-05-21 01:53:00 UTC+0000\n",
      "-----------\n",
      "1.5534\n",
      "2015-05-21 01:53:00 UTC+0000\n",
      "-----------\n",
      "1.5534\n",
      "2015-05-21 01:53:00 UTC+0000\n",
      "-----------\n",
      "1.5531\n",
      "2015-05-21 01:53:00 UTC+0000\n",
      "-----------\n",
      "1.5533\n",
      "2015-05-21 01:53:00 UTC+0000\n"
     ]
    }
   ],
   "source": [
    "import time\n",
    "for i in range(10):\n",
    "    print '-----------'\n",
    "    #print i\n",
    "    #Currency('GBPUSD').refresh()\n",
    "    bid = Currency('GBPUSD').get_bid()\n",
    "    rate = Currency('GBPUSD').get_rate()\n",
    "    ask = Currency('GBPUSD').get_ask()\n",
    "    trade_datetime  = Currency('GBPUSD').get_trade_datetime ()\n",
    "\n",
    "\n",
    "    print bid\n",
    "    #print rate\n",
    "    #print ask\n",
    "    print trade_datetime\n",
    "    in_db = 'in.db'\n",
    "    conn = sqlite3.connect(in_db)\n",
    "    c  = conn.cursor()\n",
    "    now = datetime.datetime.now()\n",
    "    iPrice = [  (now, 'wait' , trade_datetime, 'GBPUSD', bid, rate, ask ),]\n",
    "    c.executemany('INSERT INTO iPrice (iDate,status,date,symbol,bid,rate,ask) VALUES (?,?,?,?,?,?,?)', iPrice)\n",
    "       # no audit or market or type\n",
    "    conn.commit()\n",
    "    conn.close()\n",
    "    time.sleep(6)"
   ]
  },
  {
   "cell_type": "code",
   "execution_count": null,
   "metadata": {
    "collapsed": true
   },
   "outputs": [],
   "source": []
  },
  {
   "cell_type": "code",
   "execution_count": null,
   "metadata": {
    "collapsed": true
   },
   "outputs": [],
   "source": []
  },
  {
   "cell_type": "code",
   "execution_count": null,
   "metadata": {
    "collapsed": true
   },
   "outputs": [],
   "source": []
  },
  {
   "cell_type": "code",
   "execution_count": null,
   "metadata": {
    "collapsed": true
   },
   "outputs": [],
   "source": []
  }
 ],
 "metadata": {
  "kernelspec": {
   "display_name": "Python 2",
   "language": "python",
   "name": "python2"
  },
  "language_info": {
   "codemirror_mode": {
    "name": "ipython",
    "version": 2
   },
   "file_extension": ".py",
   "mimetype": "text/x-python",
   "name": "python",
   "nbconvert_exporter": "python",
   "pygments_lexer": "ipython2",
   "version": "2.7.6"
  }
 },
 "nbformat": 4,
 "nbformat_minor": 0
}
