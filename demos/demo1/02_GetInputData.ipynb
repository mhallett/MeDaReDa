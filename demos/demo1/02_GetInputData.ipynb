{
 "cells": [
  {
   "cell_type": "markdown",
   "metadata": {},
   "source": [
    "# 02 Get Input data"
   ]
  },
  {
   "cell_type": "markdown",
   "metadata": {},
   "source": [
    "get 10 values from yahoo, write to 'in' table"
   ]
  },
  {
   "cell_type": "code",
   "execution_count": 6,
   "metadata": {
    "collapsed": false
   },
   "outputs": [],
   "source": [
    "import time\n",
    "import datetime\n",
    "from yahoo_finance import Currency"
   ]
  },
  {
   "cell_type": "code",
   "execution_count": 7,
   "metadata": {
    "collapsed": false
   },
   "outputs": [],
   "source": [
    "import medareda_lib\n",
    "\n",
    "def get_conn():\n",
    "    return medareda_lib.get_conn()\n"
   ]
  },
  {
   "cell_type": "code",
   "execution_count": 8,
   "metadata": {
    "collapsed": false
   },
   "outputs": [],
   "source": [
    "import time\n",
    "def get_price(ticker):\n",
    "    print '-----------'\n",
    "    #print i\n",
    "    #Currency('GBPUSD').refresh()\n",
    "    bid = Currency(ticker).get_bid()\n",
    "    rate = Currency(ticker).get_rate()\n",
    "    ask = Currency(ticker).get_ask()\n",
    "    \n",
    "    #bid = ask = rate = 1.57\n",
    "#\n",
    "    trade_datetime  = Currency(ticker).get_trade_datetime ()\n",
    "\n",
    "\n",
    "    print ticker, bid\n",
    "    #print rate\n",
    "    #print ask\n",
    "    #print trade_datetime\n",
    "    in_db = 'in.db'\n",
    "    conn = get_conn()\n",
    "    c  = conn.cursor()\n",
    "    now = datetime.datetime.now()\n",
    "    iPrice = [  (now, 'wait' , trade_datetime, ticker, bid, rate, ask ),]\n",
    "    \n",
    "    \n",
    "    #sql = \"INSERT INTO iPrice (ipriceid,iDate,status,date,symbol,bid,rate,ask) VALUES ( %s,'%s','%s','%s','%s',%s,%s,%s) \" %('DEFAULT','2015-01-01','wait','2015-01-01','GBPUSD',1,2,3)\n",
    "    sql = \"INSERT INTO iPrice (iDate,status,date,symbol,bid,rate,ask) VALUES ('%s','%s','%s','%s',%s,%s,%s) \" %( now ,'wait',trade_datetime,ticker,bid,rate,ask)\n",
    "\n",
    "   \n",
    "    #print iPrice\n",
    "    print sql\n",
    "    c.execute(sql)\n",
    "\n",
    "    \n",
    "    # no audit or market or type\n",
    "    conn.commit()\n",
    "    conn.close()\n",
    "    return bid\n",
    "    #time.sleep(6)"
   ]
  },
  {
   "cell_type": "code",
   "execution_count": 12,
   "metadata": {
    "collapsed": false
   },
   "outputs": [
    {
     "name": "stdout",
     "output_type": "stream",
     "text": [
      "-----------\n",
      "GBPUSD 1.5233\n",
      "INSERT INTO iPrice (iDate,status,date,symbol,bid,rate,ask) VALUES ('2015-10-06 21:14:55.320780','wait','2015-10-07 01:14:00 UTC+0000','GBPUSD',1.5233,1.5236,1.5238) \n",
      "-----------\n",
      "EURGBP 0.7398\n",
      "INSERT INTO iPrice (iDate,status,date,symbol,bid,rate,ask) VALUES ('2015-10-06 21:14:56.912472','wait','2015-10-07 01:14:00 UTC+0000','EURGBP',0.7398,0.7400,0.7402) \n",
      "-----------\n",
      "USDEUR 0.8870\n",
      "INSERT INTO iPrice (iDate,status,date,symbol,bid,rate,ask) VALUES ('2015-10-06 21:14:58.502538','wait','2015-10-07 01:14:00 UTC+0000','USDEUR',0.8870,0.8870,0.8872) \n",
      "1.5233 0.7398 0.8870 0.99959342058\n"
     ]
    }
   ],
   "source": [
    "# get some input data\n",
    "\n",
    "gbp_usd = get_price('GBPUSD')\n",
    "eur_gbp = get_price('EURGBP')\n",
    "\n",
    "usd_eur = get_price('USDEUR')\n",
    "\n",
    "if gbp_usd:\n",
    "    print gbp_usd, eur_gbp, usd_eur , float(gbp_usd) * float(eur_gbp) * float(usd_eur)\n",
    "else:\n",
    "    print gbp_usd\n"
   ]
  },
  {
   "cell_type": "code",
   "execution_count": 14,
   "metadata": {
    "collapsed": false
   },
   "outputs": [
    {
     "name": "stdout",
     "output_type": "stream",
     "text": [
      "-----------\n",
      "GBPUSD 1.5321\n",
      "INSERT INTO iPrice (iDate,status,date,symbol,bid,rate,ask) VALUES ('2015-10-09 22:52:24.939753','wait','2015-10-10 02:52:00 UTC+0000','GBPUSD',1.5321,1.5326,1.5332) \n",
      "-----------\n",
      "EURGBP 0.7406\n",
      "INSERT INTO iPrice (iDate,status,date,symbol,bid,rate,ask) VALUES ('2015-10-09 22:52:26.278797','wait','2015-10-10 02:52:00 UTC+0000','EURGBP',0.7406,0.7411,0.7416) \n",
      "-----------\n",
      "USDEUR 0.8804\n",
      "INSERT INTO iPrice (iDate,status,date,symbol,bid,rate,ask) VALUES ('2015-10-09 22:52:27.620158','wait','2015-10-10 02:51:00 UTC+0000','USDEUR',0.8804,0.8804,0.8807) \n",
      "-----------\n",
      "GBPUSD 1.5321\n",
      "INSERT INTO iPrice (iDate,status,date,symbol,bid,rate,ask) VALUES ('2015-10-09 22:52:29.500127','wait','2015-10-10 02:52:00 UTC+0000','GBPUSD',1.5321,1.5326,1.5332) \n",
      "-----------\n",
      "EURGBP 0.7408\n",
      "INSERT INTO iPrice (iDate,status,date,symbol,bid,rate,ask) VALUES ('2015-10-09 22:52:30.827992','wait','2015-10-10 02:52:00 UTC+0000','EURGBP',0.7408,0.7415,0.7425) \n",
      "-----------\n",
      "USDEUR 0.8804\n",
      "INSERT INTO iPrice (iDate,status,date,symbol,bid,rate,ask) VALUES ('2015-10-09 22:52:32.185403','wait','2015-10-10 02:51:00 UTC+0000','USDEUR',0.8804,0.8804,0.8807) \n",
      "-----------\n",
      "GBPUSD 1.5303\n",
      "INSERT INTO iPrice (iDate,status,date,symbol,bid,rate,ask) VALUES ('2015-10-09 22:52:33.544110','wait','2015-10-10 02:52:00 UTC+0000','GBPUSD',1.5303,1.5314,1.5324) \n",
      "-----------\n",
      "EURGBP 0.7410\n",
      "INSERT INTO iPrice (iDate,status,date,symbol,bid,rate,ask) VALUES ('2015-10-09 22:52:35.276649','wait','2015-10-10 02:52:00 UTC+0000','EURGBP',0.7410,0.7417,0.7425) \n",
      "-----------\n",
      "USDEUR 0.8804\n",
      "INSERT INTO iPrice (iDate,status,date,symbol,bid,rate,ask) VALUES ('2015-10-09 22:52:36.744578','wait','2015-10-10 02:51:00 UTC+0000','USDEUR',0.8804,0.8804,0.8807) \n",
      "-----------\n",
      "GBPUSD 1.5321\n",
      "INSERT INTO iPrice (iDate,status,date,symbol,bid,rate,ask) VALUES ('2015-10-09 22:52:38.226073','wait','2015-10-10 02:52:00 UTC+0000','GBPUSD',1.5321,1.5326,1.5332) \n",
      "-----------\n",
      "EURGBP 0.7408\n",
      "INSERT INTO iPrice (iDate,status,date,symbol,bid,rate,ask) VALUES ('2015-10-09 22:52:39.593306','wait','2015-10-10 02:52:00 UTC+0000','EURGBP',0.7408,0.7415,0.7421) \n",
      "-----------\n",
      "USDEUR 0.8804\n",
      "INSERT INTO iPrice (iDate,status,date,symbol,bid,rate,ask) VALUES ('2015-10-09 22:52:40.969430','wait','2015-10-10 02:51:00 UTC+0000','USDEUR',0.8804,0.8804,0.8807) \n",
      "-----------\n",
      "GBPUSD 1.5303\n",
      "INSERT INTO iPrice (iDate,status,date,symbol,bid,rate,ask) VALUES ('2015-10-09 22:52:42.312456','wait','2015-10-10 02:52:00 UTC+0000','GBPUSD',1.5303,1.5314,1.5324) \n",
      "-----------\n",
      "EURGBP 0.7408\n",
      "INSERT INTO iPrice (iDate,status,date,symbol,bid,rate,ask) VALUES ('2015-10-09 22:52:43.679495','wait','2015-10-10 02:52:00 UTC+0000','EURGBP',0.7408,0.7415,0.7421) \n",
      "-----------\n",
      "USDEUR 0.8804\n",
      "INSERT INTO iPrice (iDate,status,date,symbol,bid,rate,ask) VALUES ('2015-10-09 22:52:44.996040','wait','2015-10-10 02:51:00 UTC+0000','USDEUR',0.8804,0.8804,0.8807) \n",
      "-----------\n",
      "GBPUSD 1.5303\n",
      "INSERT INTO iPrice (iDate,status,date,symbol,bid,rate,ask) VALUES ('2015-10-09 22:52:46.341609','wait','2015-10-10 02:52:00 UTC+0000','GBPUSD',1.5303,1.5314,1.5324) \n",
      "-----------\n",
      "EURGBP 0.7408\n",
      "INSERT INTO iPrice (iDate,status,date,symbol,bid,rate,ask) VALUES ('2015-10-09 22:52:47.707076','wait','2015-10-10 02:52:00 UTC+0000','EURGBP',0.7408,0.7415,0.7421) \n",
      "-----------\n",
      "USDEUR 0.8804\n",
      "INSERT INTO iPrice (iDate,status,date,symbol,bid,rate,ask) VALUES ('2015-10-09 22:52:49.064028','wait','2015-10-10 02:51:00 UTC+0000','USDEUR',0.8804,0.8804,0.8807) \n",
      "-----------\n",
      "GBPUSD 1.5303\n",
      "INSERT INTO iPrice (iDate,status,date,symbol,bid,rate,ask) VALUES ('2015-10-09 22:52:50.511302','wait','2015-10-10 02:52:00 UTC+0000','GBPUSD',1.5303,1.5314,1.5324) \n",
      "-----------\n",
      "EURGBP 0.7413\n",
      "INSERT INTO iPrice (iDate,status,date,symbol,bid,rate,ask) VALUES ('2015-10-09 22:52:51.843868','wait','2015-10-10 02:52:00 UTC+0000','EURGBP',0.7413,0.7414,0.7415) \n",
      "-----------\n",
      "USDEUR 0.8804\n",
      "INSERT INTO iPrice (iDate,status,date,symbol,bid,rate,ask) VALUES ('2015-10-09 22:52:53.265364','wait','2015-10-10 02:51:00 UTC+0000','USDEUR',0.8804,0.8804,0.8807) \n",
      "-----------\n",
      "GBPUSD 1.5321\n",
      "INSERT INTO iPrice (iDate,status,date,symbol,bid,rate,ask) VALUES ('2015-10-09 22:52:54.728918','wait','2015-10-10 02:52:00 UTC+0000','GBPUSD',1.5321,1.5326,1.5332) \n",
      "-----------\n",
      "EURGBP 0.7408\n",
      "INSERT INTO iPrice (iDate,status,date,symbol,bid,rate,ask) VALUES ('2015-10-09 22:52:56.070800','wait','2015-10-10 02:52:00 UTC+0000','EURGBP',0.7408,0.7415,0.7421) \n",
      "-----------\n",
      "USDEUR 0.8804\n",
      "INSERT INTO iPrice (iDate,status,date,symbol,bid,rate,ask) VALUES ('2015-10-09 22:52:57.444916','wait','2015-10-10 02:51:00 UTC+0000','USDEUR',0.8804,0.8804,0.8807) \n",
      "-----------\n",
      "GBPUSD 1.5303\n",
      "INSERT INTO iPrice (iDate,status,date,symbol,bid,rate,ask) VALUES ('2015-10-09 22:52:58.807167','wait','2015-10-10 02:52:00 UTC+0000','GBPUSD',1.5303,1.5314,1.5324) \n",
      "-----------\n",
      "EURGBP 0.7408\n",
      "INSERT INTO iPrice (iDate,status,date,symbol,bid,rate,ask) VALUES ('2015-10-09 22:53:00.158398','wait','2015-10-10 02:52:00 UTC+0000','EURGBP',0.7408,0.7415,0.7421) \n",
      "-----------\n",
      "USDEUR 0.8804\n",
      "INSERT INTO iPrice (iDate,status,date,symbol,bid,rate,ask) VALUES ('2015-10-09 22:53:01.595106','wait','2015-10-10 02:53:00 UTC+0000','USDEUR',0.8804,0.8804,0.8807) \n",
      "-----------\n",
      "GBPUSD 1.5303\n",
      "INSERT INTO iPrice (iDate,status,date,symbol,bid,rate,ask) VALUES ('2015-10-09 22:53:03.802054','wait','2015-10-10 02:53:00 UTC+0000','GBPUSD',1.5303,1.5314,1.5324) \n",
      "-----------\n",
      "EURGBP 0.7410\n",
      "INSERT INTO iPrice (iDate,status,date,symbol,bid,rate,ask) VALUES ('2015-10-09 22:53:05.157329','wait','2015-10-10 02:53:00 UTC+0000','EURGBP',0.7410,0.7417,0.7425) \n",
      "-----------\n",
      "USDEUR 0.8804\n",
      "INSERT INTO iPrice (iDate,status,date,symbol,bid,rate,ask) VALUES ('2015-10-09 22:53:06.500503','wait','2015-10-10 02:53:00 UTC+0000','USDEUR',0.8804,0.8804,0.8807) \n",
      "-----------\n",
      "GBPUSD 1.5321\n",
      "INSERT INTO iPrice (iDate,status,date,symbol,bid,rate,ask) VALUES ('2015-10-09 22:53:07.844337','wait','2015-10-10 02:53:00 UTC+0000','GBPUSD',1.5321,1.5326,1.5332) \n",
      "-----------\n",
      "EURGBP 0.7413\n",
      "INSERT INTO iPrice (iDate,status,date,symbol,bid,rate,ask) VALUES ('2015-10-09 22:53:09.175987','wait','2015-10-10 02:53:00 UTC+0000','EURGBP',0.7413,0.7414,0.7415) \n",
      "-----------\n",
      "USDEUR 0.8804\n",
      "INSERT INTO iPrice (iDate,status,date,symbol,bid,rate,ask) VALUES ('2015-10-09 22:53:10.527747','wait','2015-10-10 02:53:00 UTC+0000','USDEUR',0.8804,0.8804,0.8807) \n",
      "-----------\n",
      "GBPUSD 1.5321\n",
      "INSERT INTO iPrice (iDate,status,date,symbol,bid,rate,ask) VALUES ('2015-10-09 22:53:11.860226','wait','2015-10-10 02:53:00 UTC+0000','GBPUSD',1.5321,1.5326,1.5332) \n",
      "-----------\n",
      "EURGBP 0.7408\n",
      "INSERT INTO iPrice (iDate,status,date,symbol,bid,rate,ask) VALUES ('2015-10-09 22:53:13.177358','wait','2015-10-10 02:53:00 UTC+0000','EURGBP',0.7408,0.7415,0.7421) \n",
      "-----------\n",
      "USDEUR 0.8804\n",
      "INSERT INTO iPrice (iDate,status,date,symbol,bid,rate,ask) VALUES ('2015-10-09 22:53:14.516068','wait','2015-10-10 02:53:00 UTC+0000','USDEUR',0.8804,0.8804,0.8807) \n",
      "-----------\n",
      "GBPUSD 1.5303\n",
      "INSERT INTO iPrice (iDate,status,date,symbol,bid,rate,ask) VALUES ('2015-10-09 22:53:15.840057','wait','2015-10-10 02:53:00 UTC+0000','GBPUSD',1.5303,1.5314,1.5324) \n",
      "-----------\n",
      "EURGBP 0.7408\n",
      "INSERT INTO iPrice (iDate,status,date,symbol,bid,rate,ask) VALUES ('2015-10-09 22:53:17.241098','wait','2015-10-10 02:53:00 UTC+0000','EURGBP',0.7408,0.7415,0.7421) \n",
      "-----------\n",
      "USDEUR 0.8804\n",
      "INSERT INTO iPrice (iDate,status,date,symbol,bid,rate,ask) VALUES ('2015-10-09 22:53:18.592713','wait','2015-10-10 02:53:00 UTC+0000','USDEUR',0.8804,0.8804,0.8807) \n",
      "-----------\n",
      "GBPUSD 1.5303\n",
      "INSERT INTO iPrice (iDate,status,date,symbol,bid,rate,ask) VALUES ('2015-10-09 22:53:19.930283','wait','2015-10-10 02:53:00 UTC+0000','GBPUSD',1.5303,1.5314,1.5324) \n",
      "-----------\n",
      "EURGBP 0.7408\n",
      "INSERT INTO iPrice (iDate,status,date,symbol,bid,rate,ask) VALUES ('2015-10-09 22:53:21.288034','wait','2015-10-10 02:53:00 UTC+0000','EURGBP',0.7408,0.7415,0.7421) \n",
      "-----------\n",
      "USDEUR 0.8804\n",
      "INSERT INTO iPrice (iDate,status,date,symbol,bid,rate,ask) VALUES ('2015-10-09 22:53:22.610805','wait','2015-10-10 02:53:00 UTC+0000','USDEUR',0.8804,0.8804,0.8807) \n",
      "-----------\n",
      "GBPUSD 1.5321\n",
      "INSERT INTO iPrice (iDate,status,date,symbol,bid,rate,ask) VALUES ('2015-10-09 22:53:23.926279','wait','2015-10-10 02:53:00 UTC+0000','GBPUSD',1.5321,1.5326,1.5332) \n",
      "-----------\n",
      "EURGBP 0.7413\n",
      "INSERT INTO iPrice (iDate,status,date,symbol,bid,rate,ask) VALUES ('2015-10-09 22:53:25.522717','wait','2015-10-10 02:53:00 UTC+0000','EURGBP',0.7413,0.7414,0.7421) \n",
      "-----------\n",
      "USDEUR 0.8804\n",
      "INSERT INTO iPrice (iDate,status,date,symbol,bid,rate,ask) VALUES ('2015-10-09 22:53:26.857811','wait','2015-10-10 02:53:00 UTC+0000','USDEUR',0.8804,0.8804,0.8807) \n",
      "-----------\n",
      "GBPUSD 1.5321\n",
      "INSERT INTO iPrice (iDate,status,date,symbol,bid,rate,ask) VALUES ('2015-10-09 22:53:28.250763','wait','2015-10-10 02:53:00 UTC+0000','GBPUSD',1.5321,1.5326,1.5332) \n",
      "-----------\n",
      "EURGBP 0.7408\n",
      "INSERT INTO iPrice (iDate,status,date,symbol,bid,rate,ask) VALUES ('2015-10-09 22:53:29.646049','wait','2015-10-10 02:53:00 UTC+0000','EURGBP',0.7408,0.7415,0.7421) \n",
      "-----------\n",
      "USDEUR 0.8804\n",
      "INSERT INTO iPrice (iDate,status,date,symbol,bid,rate,ask) VALUES ('2015-10-09 22:53:30.999050','wait','2015-10-10 02:53:00 UTC+0000','USDEUR',0.8804,0.8804,0.8807) \n",
      "-----------\n",
      "GBPUSD 1.5303\n",
      "INSERT INTO iPrice (iDate,status,date,symbol,bid,rate,ask) VALUES ('2015-10-09 22:53:32.367921','wait','2015-10-10 02:53:00 UTC+0000','GBPUSD',1.5303,1.5314,1.5324) \n",
      "-----------\n",
      "EURGBP 0.7408\n",
      "INSERT INTO iPrice (iDate,status,date,symbol,bid,rate,ask) VALUES ('2015-10-09 22:53:34.217361','wait','2015-10-10 02:53:00 UTC+0000','EURGBP',0.7408,0.7415,0.7421) \n",
      "-----------\n",
      "USDEUR 0.8804\n",
      "INSERT INTO iPrice (iDate,status,date,symbol,bid,rate,ask) VALUES ('2015-10-09 22:53:35.577155','wait','2015-10-10 02:53:00 UTC+0000','USDEUR',0.8804,0.8804,0.8807) \n",
      "-----------\n",
      "GBPUSD 1.5303\n",
      "INSERT INTO iPrice (iDate,status,date,symbol,bid,rate,ask) VALUES ('2015-10-09 22:53:36.923067','wait','2015-10-10 02:53:00 UTC+0000','GBPUSD',1.5303,1.5314,1.5324) \n",
      "-----------\n",
      "EURGBP 0.7408\n",
      "INSERT INTO iPrice (iDate,status,date,symbol,bid,rate,ask) VALUES ('2015-10-09 22:53:38.259033','wait','2015-10-10 02:53:00 UTC+0000','EURGBP',0.7408,0.7415,0.7421) \n",
      "-----------\n",
      "USDEUR 0.8804\n",
      "INSERT INTO iPrice (iDate,status,date,symbol,bid,rate,ask) VALUES ('2015-10-09 22:53:39.596065','wait','2015-10-10 02:53:00 UTC+0000','USDEUR',0.8804,0.8804,0.8807) \n",
      "-----------\n",
      "GBPUSD 1.5303\n",
      "INSERT INTO iPrice (iDate,status,date,symbol,bid,rate,ask) VALUES ('2015-10-09 22:53:41.128130','wait','2015-10-10 02:53:00 UTC+0000','GBPUSD',1.5303,1.5314,1.5324) \n",
      "-----------\n",
      "EURGBP 0.7413\n",
      "INSERT INTO iPrice (iDate,status,date,symbol,bid,rate,ask) VALUES ('2015-10-09 22:53:42.467933','wait','2015-10-10 02:53:00 UTC+0000','EURGBP',0.7413,0.7414,0.7415) \n",
      "-----------\n",
      "USDEUR 0.8804\n",
      "INSERT INTO iPrice (iDate,status,date,symbol,bid,rate,ask) VALUES ('2015-10-09 22:53:43.824540','wait','2015-10-10 02:53:00 UTC+0000','USDEUR',0.8804,0.8804,0.8807) \n",
      "-----------\n",
      "GBPUSD 1.5303\n",
      "INSERT INTO iPrice (iDate,status,date,symbol,bid,rate,ask) VALUES ('2015-10-09 22:53:45.163696','wait','2015-10-10 02:53:00 UTC+0000','GBPUSD',1.5303,1.5314,1.5324) \n",
      "-----------\n",
      "EURGBP 0.7408\n",
      "INSERT INTO iPrice (iDate,status,date,symbol,bid,rate,ask) VALUES ('2015-10-09 22:53:46.529684','wait','2015-10-10 02:53:00 UTC+0000','EURGBP',0.7408,0.7415,0.7421) \n",
      "-----------\n",
      "USDEUR 0.8804\n",
      "INSERT INTO iPrice (iDate,status,date,symbol,bid,rate,ask) VALUES ('2015-10-09 22:53:47.916928','wait','2015-10-10 02:53:00 UTC+0000','USDEUR',0.8804,0.8804,0.8807) \n"
     ]
    }
   ],
   "source": [
    "\n",
    "#while True:\n",
    "for i in range(20):    \n",
    "    #time.sleep(0.5)\n",
    "    for ticker in ('GBPUSD','EURGBP','USDEUR'):\n",
    "        get_price(ticker)"
   ]
  },
  {
   "cell_type": "code",
   "execution_count": null,
   "metadata": {
    "collapsed": true
   },
   "outputs": [],
   "source": []
  },
  {
   "cell_type": "code",
   "execution_count": null,
   "metadata": {
    "collapsed": true
   },
   "outputs": [],
   "source": []
  },
  {
   "cell_type": "code",
   "execution_count": null,
   "metadata": {
    "collapsed": true
   },
   "outputs": [],
   "source": []
  },
  {
   "cell_type": "code",
   "execution_count": null,
   "metadata": {
    "collapsed": true
   },
   "outputs": [],
   "source": []
  },
  {
   "cell_type": "code",
   "execution_count": null,
   "metadata": {
    "collapsed": true
   },
   "outputs": [],
   "source": []
  }
 ],
 "metadata": {
  "kernelspec": {
   "display_name": "Python 2",
   "language": "python",
   "name": "python2"
  },
  "language_info": {
   "codemirror_mode": {
    "name": "ipython",
    "version": 2
   },
   "file_extension": ".py",
   "mimetype": "text/x-python",
   "name": "python",
   "nbconvert_exporter": "python",
   "pygments_lexer": "ipython2",
   "version": "2.7.9"
  }
 },
 "nbformat": 4,
 "nbformat_minor": 0
}
